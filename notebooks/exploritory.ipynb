{
 "cells": [
  {
   "cell_type": "code",
   "execution_count": 1,
   "metadata": {},
   "outputs": [],
   "source": [
    "import pandas as pd\n",
    "import matplotlib.pyplot as plt\n",
    "from sklearn import calibration\n",
    "import sklearn.linear_model\n",
    "from catboost import CatBoostClassifier, Pool, CatBoostRegressor\n",
    "from sklearn.model_selection import GroupKFold, RandomizedSearchCV\n",
    "import numpy as np\n",
    "import scipy.stats\n",
    "from sklearn.base import clone\n",
    "from sklearn.model_selection._search import ParameterSampler\n",
    "from sklearn.metrics import brier_score_loss, make_scorer, log_loss, mean_squared_error\n",
    "os.chdir('/Users/lucashaupt/Documents/GitHub/nfl-live-win-probability')"
   ]
  },
  {
   "cell_type": "code",
   "execution_count": 2,
   "metadata": {},
   "outputs": [],
   "source": [
    "odds_df = pd.read_parquet(\"data/odds_data.parquet\")\n",
    "event_df = pd.read_parquet(\"data/event_data.parquet\")"
   ]
  },
  {
   "cell_type": "code",
   "execution_count": 3,
   "metadata": {},
   "outputs": [],
   "source": [
    "odds_df = odds_df.drop_duplicates(\"game_code\")"
   ]
  },
  {
   "cell_type": "code",
   "execution_count": 4,
   "metadata": {},
   "outputs": [],
   "source": [
    "df = event_df.merge(odds_df, how=\"inner\", on=[\"game_code\"], copy=False, suffixes=[\"\", \"_y\"])"
   ]
  },
  {
   "cell_type": "code",
   "execution_count": 5,
   "metadata": {},
   "outputs": [
    {
     "data": {
      "text/plain": [
       "Index(['game_code', 'game_date', 'home_team_id', 'away_team_id',\n",
       "       'home_final_score', 'away_final_score', 'home_team_outcome',\n",
       "       'off_team_id', 'off_team_name', 'off_team_abbrev', 'off_team_nickname',\n",
       "       'def_team_id', 'def_team_name', 'def_team_abbrev', 'def_team_nickname',\n",
       "       'play_unique_id', 'nevent', 'event_id', 'event_name', 'eff_cnts',\n",
       "       'quarter', 'home_rest_of_game_score', 'away_rest_of_game_score',\n",
       "       'home_team_has_ball', 'home_start_score', 'home_end_score',\n",
       "       'away_start_score', 'away_end_score', 'off_start_score',\n",
       "       'off_end_score', 'def_start_score', 'def_end_score', 'yd_from_goal',\n",
       "       'is_twomin', 'from_scrimmage', 'is_first_down', 'is_scoring_play',\n",
       "       'continuation', 'drive_id', 'drive_start', 'down', 'ytg',\n",
       "       'time_of_score', 'total_play_yd', 'timeouts_left', 'unit', 'league_id',\n",
       "       'league_name', 'off_conference_id', 'off_conference_name', 'season_id',\n",
       "       'season', 'game_type_id', 'game_type_desc', 'def_conference_id',\n",
       "       'def_conference_name', 'qb_id', 'play_start_time', 'snap_hash',\n",
       "       'casino_id', 'casino_name', 'status', 'season_y', 'game_type_desc_y',\n",
       "       'game_date_y', 'home_team', 'away_team', 'cur_favorite_id',\n",
       "       'cur_spread', 'cur_over_under', 'home_odds', 'away_odds',\n",
       "       'favorite_odds', 'underdog_odds'],\n",
       "      dtype='object')"
      ]
     },
     "execution_count": 5,
     "metadata": {},
     "output_type": "execute_result"
    }
   ],
   "source": [
    "df.columns"
   ]
  },
  {
   "cell_type": "code",
   "execution_count": 6,
   "metadata": {},
   "outputs": [],
   "source": [
    "FEATURES = ['home_team_has_ball', 'home_start_score', 'away_start_score', 'quarter', 'play_start_time', 'yd_from_goal', 'from_scrimmage', 'down', 'ytg','cur_spread', 'cur_over_under']\n",
    "TARGET = 'home_team_outcome'\n",
    "CATEGORICALS = ['home_team_has_ball', 'quarter', 'from_scrimmage', 'down']"
   ]
  },
  {
   "cell_type": "code",
   "execution_count": 7,
   "metadata": {},
   "outputs": [],
   "source": [
    "df = df[df[\"home_team_outcome\"]!=\"T\"]"
   ]
  },
  {
   "cell_type": "code",
   "execution_count": 8,
   "metadata": {},
   "outputs": [],
   "source": [
    "train_df = df[df[\"season\"]<=2016]\n",
    "test_df = df[(df[\"season\"]>=2017) & (df[\"season\"]<=2019)]\n",
    "val_df = df[df[\"season\"]>=2020]\n"
   ]
  },
  {
   "cell_type": "code",
   "execution_count": 9,
   "metadata": {},
   "outputs": [
    {
     "data": {
      "text/html": [
       "<div>\n",
       "<style scoped>\n",
       "    .dataframe tbody tr th:only-of-type {\n",
       "        vertical-align: middle;\n",
       "    }\n",
       "\n",
       "    .dataframe tbody tr th {\n",
       "        vertical-align: top;\n",
       "    }\n",
       "\n",
       "    .dataframe thead th {\n",
       "        text-align: right;\n",
       "    }\n",
       "</style>\n",
       "<table border=\"1\" class=\"dataframe\">\n",
       "  <thead>\n",
       "    <tr style=\"text-align: right;\">\n",
       "      <th></th>\n",
       "      <th>game_code</th>\n",
       "    </tr>\n",
       "    <tr>\n",
       "      <th>home_team_outcome</th>\n",
       "      <th></th>\n",
       "    </tr>\n",
       "  </thead>\n",
       "  <tbody>\n",
       "    <tr>\n",
       "      <th>L</th>\n",
       "      <td>290766</td>\n",
       "    </tr>\n",
       "    <tr>\n",
       "      <th>W</th>\n",
       "      <td>368634</td>\n",
       "    </tr>\n",
       "  </tbody>\n",
       "</table>\n",
       "</div>"
      ],
      "text/plain": [
       "                   game_code\n",
       "home_team_outcome           \n",
       "L                     290766\n",
       "W                     368634"
      ]
     },
     "execution_count": 9,
     "metadata": {},
     "output_type": "execute_result"
    }
   ],
   "source": [
    "df[[\"home_team_outcome\", \"game_code\"]].groupby(\"home_team_outcome\").count()"
   ]
  },
  {
   "cell_type": "code",
   "execution_count": 10,
   "metadata": {},
   "outputs": [],
   "source": [
    "FIT_PARAMS = {\n",
    "    \"verbose\": 10,\n",
    "    \"early_stopping_rounds\": 5,\n",
    "    \"use_best_model\": True,\n",
    "}\n",
    "val_pool = Pool(\n",
    "    val_df[FEATURES],\n",
    "    val_df[TARGET],\n",
    "    # weight=1 - (self.val_df[\"timeremaining\"] / 2880),\n",
    "    cat_features=CATEGORICALS,\n",
    ")\n",
    "FIT_PARAMS[\"eval_set\"] = val_pool\n",
    "COMPUTE_PARAMS = (\n",
    "    {\"devices\": \"0:1\", \"thread_count\": -1}\n",
    ")\n",
    "PARAMS = {\n",
    "    # \"n_estimators\": 10,\n",
    "    \"num_trees\": 10000,\n",
    "    \"auto_class_weights\": \"Balanced\",\n",
    "    # \"loss_function\": JITRmseObjective(),\n",
    "    # \"eval_metric\": JITRmseMetric(),\n",
    "    **COMPUTE_PARAMS,\n",
    "}\n"
   ]
  },
  {
   "cell_type": "code",
   "execution_count": 11,
   "metadata": {},
   "outputs": [
    {
     "name": "stdout",
     "output_type": "stream",
     "text": [
      "Learning rate set to 0.051388\n",
      "0:\tlearn: 0.6698338\ttest: 0.6706906\tbest: 0.6706906 (0)\ttotal: 175ms\tremaining: 29m 5s\n",
      "10:\tlearn: 0.5431568\ttest: 0.5425156\tbest: 0.5425156 (10)\ttotal: 1.99s\tremaining: 30m 9s\n",
      "20:\tlearn: 0.5000461\ttest: 0.4981161\tbest: 0.4981161 (20)\ttotal: 3.18s\tremaining: 25m 13s\n",
      "30:\tlearn: 0.4822495\ttest: 0.4812946\tbest: 0.4812946 (30)\ttotal: 4.63s\tremaining: 24m 50s\n",
      "40:\tlearn: 0.4709152\ttest: 0.4731417\tbest: 0.4729904 (39)\ttotal: 6.11s\tremaining: 24m 43s\n",
      "50:\tlearn: 0.4633854\ttest: 0.4666410\tbest: 0.4666410 (50)\ttotal: 7.59s\tremaining: 24m 41s\n",
      "60:\tlearn: 0.4563477\ttest: 0.4623415\tbest: 0.4623415 (60)\ttotal: 9.14s\tremaining: 24m 49s\n",
      "70:\tlearn: 0.4515995\ttest: 0.4599384\tbest: 0.4599384 (70)\ttotal: 10.5s\tremaining: 24m 35s\n",
      "Stopped by overfitting detector  (5 iterations wait)\n",
      "\n",
      "bestTest = 0.4592181928\n",
      "bestIteration = 73\n",
      "\n",
      "Shrink model to first 74 iterations.\n"
     ]
    },
    {
     "data": {
      "text/plain": [
       "<catboost.core.CatBoostClassifier at 0x7fe9c9a58ac0>"
      ]
     },
     "execution_count": 11,
     "metadata": {},
     "output_type": "execute_result"
    }
   ],
   "source": [
    "clf = CatBoostClassifier(\n",
    "            random_state=42,\n",
    "            **PARAMS,\n",
    "            cat_features=CATEGORICALS,\n",
    ")\n",
    "clf.fit(train_df[FEATURES], train_df[TARGET], **FIT_PARAMS)"
   ]
  },
  {
   "cell_type": "code",
   "execution_count": null,
   "metadata": {},
   "outputs": [],
   "source": []
  },
  {
   "cell_type": "code",
   "execution_count": 12,
   "metadata": {},
   "outputs": [
    {
     "name": "stderr",
     "output_type": "stream",
     "text": [
      "/Users/lucashaupt/Documents/GitHub/nfl-live-win-probability/venv/lib/python3.9/site-packages/pandas/core/frame.py:3678: SettingWithCopyWarning: \n",
      "A value is trying to be set on a copy of a slice from a DataFrame.\n",
      "Try using .loc[row_indexer,col_indexer] = value instead\n",
      "\n",
      "See the caveats in the documentation: https://pandas.pydata.org/pandas-docs/stable/user_guide/indexing.html#returning-a-view-versus-a-copy\n",
      "  self[col] = igetitem(value, i)\n"
     ]
    }
   ],
   "source": [
    "test_df[['p_L', 'p_W']] = clf.predict_proba(test_df[FEATURES])"
   ]
  },
  {
   "cell_type": "code",
   "execution_count": 23,
   "metadata": {},
   "outputs": [
    {
     "data": {
      "text/plain": [
       "0.48202623968544095"
      ]
     },
     "execution_count": 23,
     "metadata": {},
     "output_type": "execute_result"
    }
   ],
   "source": [
    "np.mean(test_df[\"p_L\"])"
   ]
  },
  {
   "cell_type": "code",
   "execution_count": 25,
   "metadata": {},
   "outputs": [],
   "source": [
    "X = test_df[['game_code', 'nevent','p_W']+FEATURES]"
   ]
  },
  {
   "cell_type": "code",
   "execution_count": 14,
   "metadata": {},
   "outputs": [
    {
     "data": {
      "text/html": [
       "<div>\n",
       "<style scoped>\n",
       "    .dataframe tbody tr th:only-of-type {\n",
       "        vertical-align: middle;\n",
       "    }\n",
       "\n",
       "    .dataframe tbody tr th {\n",
       "        vertical-align: top;\n",
       "    }\n",
       "\n",
       "    .dataframe thead th {\n",
       "        text-align: right;\n",
       "    }\n",
       "</style>\n",
       "<table border=\"1\" class=\"dataframe\">\n",
       "  <thead>\n",
       "    <tr style=\"text-align: right;\">\n",
       "      <th></th>\n",
       "      <th>0</th>\n",
       "    </tr>\n",
       "  </thead>\n",
       "  <tbody>\n",
       "    <tr>\n",
       "      <th>1.296765</th>\n",
       "      <td>home_team_has_ball</td>\n",
       "    </tr>\n",
       "    <tr>\n",
       "      <th>38.393390</th>\n",
       "      <td>home_start_score</td>\n",
       "    </tr>\n",
       "    <tr>\n",
       "      <th>31.111561</th>\n",
       "      <td>away_start_score</td>\n",
       "    </tr>\n",
       "    <tr>\n",
       "      <th>0.000000</th>\n",
       "      <td>quarter</td>\n",
       "    </tr>\n",
       "    <tr>\n",
       "      <th>0.019899</th>\n",
       "      <td>play_start_time</td>\n",
       "    </tr>\n",
       "    <tr>\n",
       "      <th>0.638822</th>\n",
       "      <td>yd_from_goal</td>\n",
       "    </tr>\n",
       "    <tr>\n",
       "      <th>0.000000</th>\n",
       "      <td>from_scrimmage</td>\n",
       "    </tr>\n",
       "    <tr>\n",
       "      <th>0.000000</th>\n",
       "      <td>down</td>\n",
       "    </tr>\n",
       "    <tr>\n",
       "      <th>0.000000</th>\n",
       "      <td>ytg</td>\n",
       "    </tr>\n",
       "    <tr>\n",
       "      <th>21.257598</th>\n",
       "      <td>cur_spread</td>\n",
       "    </tr>\n",
       "    <tr>\n",
       "      <th>7.281965</th>\n",
       "      <td>cur_over_under</td>\n",
       "    </tr>\n",
       "  </tbody>\n",
       "</table>\n",
       "</div>"
      ],
      "text/plain": [
       "                            0\n",
       "1.296765   home_team_has_ball\n",
       "38.393390    home_start_score\n",
       "31.111561    away_start_score\n",
       "0.000000              quarter\n",
       "0.019899      play_start_time\n",
       "0.638822         yd_from_goal\n",
       "0.000000       from_scrimmage\n",
       "0.000000                 down\n",
       "0.000000                  ytg\n",
       "21.257598          cur_spread\n",
       "7.281965       cur_over_under"
      ]
     },
     "execution_count": 14,
     "metadata": {},
     "output_type": "execute_result"
    }
   ],
   "source": [
    "pd.DataFrame(FEATURES, clf.feature_importances_)"
   ]
  },
  {
   "cell_type": "code",
   "execution_count": 15,
   "metadata": {},
   "outputs": [],
   "source": [
    "def uniform_distribution(lo, hi):\n",
    "    return scipy.stats.uniform(lo, hi - lo)\n",
    "\n",
    "CATBOOST_CLF_PARAM_DISTRIBUTIONS = {\n",
    "    \"learning_rate\": uniform_distribution(0.01, 0.1),\n",
    "    \"max_depth\": range(5, 16),\n",
    "    \"subsample\": uniform_distribution(0.9, 1),\n",
    "    \"l2_leaf_reg\": uniform_distribution(1, 4),\n",
    "    \"boosting_type\": [\"Plain\"],\n",
    "    # 'l2_leaf_reg': [1.1128231580542005],\n",
    "    # \"learning_rate\": [0.07497988950401423],\n",
    "    # \"max_depth\":[15],\n",
    "    # \"subsample\":[0.8424678221356553],\n",
    "}\n"
   ]
  },
  {
   "cell_type": "code",
   "execution_count": 32,
   "metadata": {},
   "outputs": [],
   "source": [
    "def ProbaScoreProxy(y_true, y_probs, proxied_func, **kwargs):\n",
    "    return proxied_func(y_true, y_probs, **kwargs)\n",
    "brier_scorer = make_scorer(\n",
    "    ProbaScoreProxy,\n",
    "    greater_is_better=False, #True\n",
    "    needs_proba=True,\n",
    "    proxied_func=brier_score_loss,\n",
    ")\n",
    "game_cv = GroupKFold(n_splits=3)\n",
    "HPO_PARAMS={\"n_jobs\":1}\n",
    "clf_new = CatBoostClassifier(\n",
    "            random_state=42,\n",
    "            **PARAMS,\n",
    "            cat_features=CATEGORICALS,\n",
    ")\n",
    "\n",
    "hpo_search = RandomizedSearchCV(\n",
    "    clf_new,\n",
    "    CATBOOST_CLF_PARAM_DISTRIBUTIONS,\n",
    "    n_iter=10,\n",
    "    cv=game_cv,\n",
    "    verbose=1,\n",
    "    refit=False,\n",
    "    scoring=brier_scorer,\n",
    "    random_state=42,\n",
    "    **HPO_PARAMS,\n",
    ")\n",
    "val_pool = Pool(\n",
    "    val_df[FEATURES],\n",
    "    val_df[TARGET],\n",
    "    # weight=1 - (self.val_df[\"timeremaining\"] / 2880),\n",
    "    cat_features=CATEGORICALS,\n",
    ")\n",
    "FIT_PARAMS[\"eval_set\"] = val_pool\n"
   ]
  },
  {
   "cell_type": "code",
   "execution_count": 33,
   "metadata": {},
   "outputs": [
    {
     "name": "stdout",
     "output_type": "stream",
     "text": [
      "Fitting 3 folds for each of 10 candidates, totalling 30 fits\n"
     ]
    },
    {
     "name": "stderr",
     "output_type": "stream",
     "text": [
      "Custom logger is already specified. Specify more than one logger at same time is not thread safe."
     ]
    },
    {
     "name": "stdout",
     "output_type": "stream",
     "text": [
      "0:\tlearn: 0.6261876\ttest: 0.6311041\tbest: 0.6311041 (0)\ttotal: 1.49s\tremaining: 4h 8m 22s\n",
      "10:\tlearn: 0.4095907\ttest: 0.4882600\tbest: 0.4882600 (10)\ttotal: 10.8s\tremaining: 2h 43m 29s\n",
      "Stopped by overfitting detector  (5 iterations wait)\n",
      "\n",
      "bestTest = 0.48497094\n",
      "bestIteration = 14\n",
      "\n",
      "Shrink model to first 15 iterations.\n"
     ]
    },
    {
     "name": "stderr",
     "output_type": "stream",
     "text": [
      "/Users/lucashaupt/Documents/GitHub/nfl-live-win-probability/venv/lib/python3.9/site-packages/sklearn/model_selection/_validation.py:771: UserWarning: Scoring failed. The score on this train-test partition for these parameters will be set to nan. Details: \n",
      "Traceback (most recent call last):\n",
      "  File \"/Users/lucashaupt/Documents/GitHub/nfl-live-win-probability/venv/lib/python3.9/site-packages/sklearn/model_selection/_validation.py\", line 762, in _score\n",
      "    scores = scorer(estimator, X_test, y_test)\n",
      "  File \"/Users/lucashaupt/Documents/GitHub/nfl-live-win-probability/venv/lib/python3.9/site-packages/sklearn/metrics/_scorer.py\", line 216, in __call__\n",
      "    return self._score(\n",
      "  File \"/Users/lucashaupt/Documents/GitHub/nfl-live-win-probability/venv/lib/python3.9/site-packages/sklearn/metrics/_scorer.py\", line 309, in _score\n",
      "    return self._sign * self._score_func(y, y_pred, **self._kwargs)\n",
      "  File \"/var/folders/dq/tcxv3s4j7y585_4jhfbdvrx00000gn/T/ipykernel_5492/753821780.py\", line 2, in ProbaScoreProxy\n",
      "    return proxied_func(y_true, y_probs, **kwargs)\n",
      "  File \"/Users/lucashaupt/Documents/GitHub/nfl-live-win-probability/venv/lib/python3.9/site-packages/sklearn/metrics/_classification.py\", line 2641, in brier_score_loss\n",
      "    pos_label = _check_pos_label_consistency(pos_label, y_true)\n",
      "  File \"/Users/lucashaupt/Documents/GitHub/nfl-live-win-probability/venv/lib/python3.9/site-packages/sklearn/metrics/_base.py\", line 243, in _check_pos_label_consistency\n",
      "    raise ValueError(\n",
      "ValueError: y_true takes value in {'L', 'W'} and pos_label is not specified: either make y_true take value in {0, 1} or {-1, 1} or pass pos_label explicitly.\n",
      "\n",
      "  warnings.warn(\n"
     ]
    },
    {
     "name": "stdout",
     "output_type": "stream",
     "text": [
      "0:\tlearn: 0.6255432\ttest: 0.6342533\tbest: 0.6342533 (0)\ttotal: 935ms\tremaining: 2h 35m 51s\n",
      "10:\tlearn: 0.4114709\ttest: 0.4827564\tbest: 0.4816728 (9)\ttotal: 9.16s\tremaining: 2h 18m 37s\n",
      "Stopped by overfitting detector  (5 iterations wait)\n",
      "\n",
      "bestTest = 0.4738336506\n",
      "bestIteration = 14\n",
      "\n",
      "Shrink model to first 15 iterations.\n"
     ]
    },
    {
     "name": "stderr",
     "output_type": "stream",
     "text": [
      "/Users/lucashaupt/Documents/GitHub/nfl-live-win-probability/venv/lib/python3.9/site-packages/sklearn/model_selection/_validation.py:771: UserWarning: Scoring failed. The score on this train-test partition for these parameters will be set to nan. Details: \n",
      "Traceback (most recent call last):\n",
      "  File \"/Users/lucashaupt/Documents/GitHub/nfl-live-win-probability/venv/lib/python3.9/site-packages/sklearn/model_selection/_validation.py\", line 762, in _score\n",
      "    scores = scorer(estimator, X_test, y_test)\n",
      "  File \"/Users/lucashaupt/Documents/GitHub/nfl-live-win-probability/venv/lib/python3.9/site-packages/sklearn/metrics/_scorer.py\", line 216, in __call__\n",
      "    return self._score(\n",
      "  File \"/Users/lucashaupt/Documents/GitHub/nfl-live-win-probability/venv/lib/python3.9/site-packages/sklearn/metrics/_scorer.py\", line 309, in _score\n",
      "    return self._sign * self._score_func(y, y_pred, **self._kwargs)\n",
      "  File \"/var/folders/dq/tcxv3s4j7y585_4jhfbdvrx00000gn/T/ipykernel_5492/753821780.py\", line 2, in ProbaScoreProxy\n",
      "    return proxied_func(y_true, y_probs, **kwargs)\n",
      "  File \"/Users/lucashaupt/Documents/GitHub/nfl-live-win-probability/venv/lib/python3.9/site-packages/sklearn/metrics/_classification.py\", line 2641, in brier_score_loss\n",
      "    pos_label = _check_pos_label_consistency(pos_label, y_true)\n",
      "  File \"/Users/lucashaupt/Documents/GitHub/nfl-live-win-probability/venv/lib/python3.9/site-packages/sklearn/metrics/_base.py\", line 243, in _check_pos_label_consistency\n",
      "    raise ValueError(\n",
      "ValueError: y_true takes value in {'L', 'W'} and pos_label is not specified: either make y_true take value in {0, 1} or {-1, 1} or pass pos_label explicitly.\n",
      "\n",
      "  warnings.warn(\n"
     ]
    },
    {
     "name": "stdout",
     "output_type": "stream",
     "text": [
      "0:\tlearn: 0.6294411\ttest: 0.6359334\tbest: 0.6359334 (0)\ttotal: 959ms\tremaining: 2h 39m 50s\n",
      "10:\tlearn: 0.4056620\ttest: 0.4920244\tbest: 0.4920244 (10)\ttotal: 11.1s\tremaining: 2h 47m 24s\n",
      "20:\tlearn: 0.3464571\ttest: 0.4838213\tbest: 0.4828557 (19)\ttotal: 27.8s\tremaining: 3h 40m 26s\n",
      "Stopped by overfitting detector  (5 iterations wait)\n",
      "\n",
      "bestTest = 0.4803633765\n",
      "bestIteration = 23\n",
      "\n",
      "Shrink model to first 24 iterations.\n"
     ]
    },
    {
     "name": "stderr",
     "output_type": "stream",
     "text": [
      "/Users/lucashaupt/Documents/GitHub/nfl-live-win-probability/venv/lib/python3.9/site-packages/sklearn/model_selection/_validation.py:771: UserWarning: Scoring failed. The score on this train-test partition for these parameters will be set to nan. Details: \n",
      "Traceback (most recent call last):\n",
      "  File \"/Users/lucashaupt/Documents/GitHub/nfl-live-win-probability/venv/lib/python3.9/site-packages/sklearn/model_selection/_validation.py\", line 762, in _score\n",
      "    scores = scorer(estimator, X_test, y_test)\n",
      "  File \"/Users/lucashaupt/Documents/GitHub/nfl-live-win-probability/venv/lib/python3.9/site-packages/sklearn/metrics/_scorer.py\", line 216, in __call__\n",
      "    return self._score(\n",
      "  File \"/Users/lucashaupt/Documents/GitHub/nfl-live-win-probability/venv/lib/python3.9/site-packages/sklearn/metrics/_scorer.py\", line 309, in _score\n",
      "    return self._sign * self._score_func(y, y_pred, **self._kwargs)\n",
      "  File \"/var/folders/dq/tcxv3s4j7y585_4jhfbdvrx00000gn/T/ipykernel_5492/753821780.py\", line 2, in ProbaScoreProxy\n",
      "    return proxied_func(y_true, y_probs, **kwargs)\n",
      "  File \"/Users/lucashaupt/Documents/GitHub/nfl-live-win-probability/venv/lib/python3.9/site-packages/sklearn/metrics/_classification.py\", line 2641, in brier_score_loss\n",
      "    pos_label = _check_pos_label_consistency(pos_label, y_true)\n",
      "  File \"/Users/lucashaupt/Documents/GitHub/nfl-live-win-probability/venv/lib/python3.9/site-packages/sklearn/metrics/_base.py\", line 243, in _check_pos_label_consistency\n",
      "    raise ValueError(\n",
      "ValueError: y_true takes value in {'L', 'W'} and pos_label is not specified: either make y_true take value in {0, 1} or {-1, 1} or pass pos_label explicitly.\n",
      "\n",
      "  warnings.warn(\n"
     ]
    },
    {
     "name": "stdout",
     "output_type": "stream",
     "text": [
      "0:\tlearn: 0.6619091\ttest: 0.6628486\tbest: 0.6628486 (0)\ttotal: 189ms\tremaining: 31m 25s\n",
      "10:\tlearn: 0.5068072\ttest: 0.5226555\tbest: 0.5226555 (10)\ttotal: 2.93s\tremaining: 44m 24s\n",
      "20:\tlearn: 0.4557859\ttest: 0.4899043\tbest: 0.4899043 (20)\ttotal: 5.05s\tremaining: 39m 57s\n",
      "30:\tlearn: 0.4291267\ttest: 0.4801515\tbest: 0.4801515 (30)\ttotal: 7.21s\tremaining: 38m 38s\n",
      "40:\tlearn: 0.4102696\ttest: 0.4785265\tbest: 0.4784009 (37)\ttotal: 10.7s\tremaining: 43m 19s\n",
      "Stopped by overfitting detector  (5 iterations wait)\n",
      "\n",
      "bestTest = 0.4784008788\n",
      "bestIteration = 37\n",
      "\n",
      "Shrink model to first 38 iterations.\n"
     ]
    },
    {
     "name": "stderr",
     "output_type": "stream",
     "text": [
      "/Users/lucashaupt/Documents/GitHub/nfl-live-win-probability/venv/lib/python3.9/site-packages/sklearn/model_selection/_validation.py:771: UserWarning: Scoring failed. The score on this train-test partition for these parameters will be set to nan. Details: \n",
      "Traceback (most recent call last):\n",
      "  File \"/Users/lucashaupt/Documents/GitHub/nfl-live-win-probability/venv/lib/python3.9/site-packages/sklearn/model_selection/_validation.py\", line 762, in _score\n",
      "    scores = scorer(estimator, X_test, y_test)\n",
      "  File \"/Users/lucashaupt/Documents/GitHub/nfl-live-win-probability/venv/lib/python3.9/site-packages/sklearn/metrics/_scorer.py\", line 216, in __call__\n",
      "    return self._score(\n",
      "  File \"/Users/lucashaupt/Documents/GitHub/nfl-live-win-probability/venv/lib/python3.9/site-packages/sklearn/metrics/_scorer.py\", line 309, in _score\n",
      "    return self._sign * self._score_func(y, y_pred, **self._kwargs)\n",
      "  File \"/var/folders/dq/tcxv3s4j7y585_4jhfbdvrx00000gn/T/ipykernel_5492/753821780.py\", line 2, in ProbaScoreProxy\n",
      "    return proxied_func(y_true, y_probs, **kwargs)\n",
      "  File \"/Users/lucashaupt/Documents/GitHub/nfl-live-win-probability/venv/lib/python3.9/site-packages/sklearn/metrics/_classification.py\", line 2641, in brier_score_loss\n",
      "    pos_label = _check_pos_label_consistency(pos_label, y_true)\n",
      "  File \"/Users/lucashaupt/Documents/GitHub/nfl-live-win-probability/venv/lib/python3.9/site-packages/sklearn/metrics/_base.py\", line 243, in _check_pos_label_consistency\n",
      "    raise ValueError(\n",
      "ValueError: y_true takes value in {'L', 'W'} and pos_label is not specified: either make y_true take value in {0, 1} or {-1, 1} or pass pos_label explicitly.\n",
      "\n",
      "  warnings.warn(\n"
     ]
    },
    {
     "name": "stdout",
     "output_type": "stream",
     "text": [
      "0:\tlearn: 0.6621599\ttest: 0.6629928\tbest: 0.6629928 (0)\ttotal: 251ms\tremaining: 41m 53s\n",
      "10:\tlearn: 0.5106754\ttest: 0.5239594\tbest: 0.5239594 (10)\ttotal: 3.25s\tremaining: 49m 9s\n",
      "20:\tlearn: 0.4600835\ttest: 0.4863917\tbest: 0.4863917 (20)\ttotal: 5.39s\tremaining: 42m 40s\n",
      "30:\tlearn: 0.4310024\ttest: 0.4742530\tbest: 0.4742530 (30)\ttotal: 7.29s\tremaining: 39m 4s\n",
      "40:\tlearn: 0.4113605\ttest: 0.4705609\tbest: 0.4705609 (40)\ttotal: 9.26s\tremaining: 37m 29s\n",
      "Stopped by overfitting detector  (5 iterations wait)\n",
      "\n",
      "bestTest = 0.468843265\n",
      "bestIteration = 44\n",
      "\n",
      "Shrink model to first 45 iterations.\n"
     ]
    },
    {
     "name": "stderr",
     "output_type": "stream",
     "text": [
      "/Users/lucashaupt/Documents/GitHub/nfl-live-win-probability/venv/lib/python3.9/site-packages/sklearn/model_selection/_validation.py:771: UserWarning: Scoring failed. The score on this train-test partition for these parameters will be set to nan. Details: \n",
      "Traceback (most recent call last):\n",
      "  File \"/Users/lucashaupt/Documents/GitHub/nfl-live-win-probability/venv/lib/python3.9/site-packages/sklearn/model_selection/_validation.py\", line 762, in _score\n",
      "    scores = scorer(estimator, X_test, y_test)\n",
      "  File \"/Users/lucashaupt/Documents/GitHub/nfl-live-win-probability/venv/lib/python3.9/site-packages/sklearn/metrics/_scorer.py\", line 216, in __call__\n",
      "    return self._score(\n",
      "  File \"/Users/lucashaupt/Documents/GitHub/nfl-live-win-probability/venv/lib/python3.9/site-packages/sklearn/metrics/_scorer.py\", line 309, in _score\n",
      "    return self._sign * self._score_func(y, y_pred, **self._kwargs)\n",
      "  File \"/var/folders/dq/tcxv3s4j7y585_4jhfbdvrx00000gn/T/ipykernel_5492/753821780.py\", line 2, in ProbaScoreProxy\n",
      "    return proxied_func(y_true, y_probs, **kwargs)\n",
      "  File \"/Users/lucashaupt/Documents/GitHub/nfl-live-win-probability/venv/lib/python3.9/site-packages/sklearn/metrics/_classification.py\", line 2641, in brier_score_loss\n",
      "    pos_label = _check_pos_label_consistency(pos_label, y_true)\n",
      "  File \"/Users/lucashaupt/Documents/GitHub/nfl-live-win-probability/venv/lib/python3.9/site-packages/sklearn/metrics/_base.py\", line 243, in _check_pos_label_consistency\n",
      "    raise ValueError(\n",
      "ValueError: y_true takes value in {'L', 'W'} and pos_label is not specified: either make y_true take value in {0, 1} or {-1, 1} or pass pos_label explicitly.\n",
      "\n",
      "  warnings.warn(\n"
     ]
    },
    {
     "name": "stdout",
     "output_type": "stream",
     "text": [
      "0:\tlearn: 0.6623919\ttest: 0.6634865\tbest: 0.6634865 (0)\ttotal: 194ms\tremaining: 32m 23s\n",
      "10:\tlearn: 0.5078471\ttest: 0.5221559\tbest: 0.5221559 (10)\ttotal: 2.8s\tremaining: 42m 21s\n",
      "20:\tlearn: 0.4558536\ttest: 0.4923871\tbest: 0.4923871 (20)\ttotal: 5.43s\tremaining: 43m 1s\n",
      "30:\tlearn: 0.4224475\ttest: 0.4894637\tbest: 0.4869947 (29)\ttotal: 8.55s\tremaining: 45m 48s\n",
      "Stopped by overfitting detector  (5 iterations wait)\n",
      "\n",
      "bestTest = 0.4869946871\n",
      "bestIteration = 29\n",
      "\n",
      "Shrink model to first 30 iterations.\n"
     ]
    },
    {
     "name": "stderr",
     "output_type": "stream",
     "text": [
      "/Users/lucashaupt/Documents/GitHub/nfl-live-win-probability/venv/lib/python3.9/site-packages/sklearn/model_selection/_validation.py:771: UserWarning: Scoring failed. The score on this train-test partition for these parameters will be set to nan. Details: \n",
      "Traceback (most recent call last):\n",
      "  File \"/Users/lucashaupt/Documents/GitHub/nfl-live-win-probability/venv/lib/python3.9/site-packages/sklearn/model_selection/_validation.py\", line 762, in _score\n",
      "    scores = scorer(estimator, X_test, y_test)\n",
      "  File \"/Users/lucashaupt/Documents/GitHub/nfl-live-win-probability/venv/lib/python3.9/site-packages/sklearn/metrics/_scorer.py\", line 216, in __call__\n",
      "    return self._score(\n",
      "  File \"/Users/lucashaupt/Documents/GitHub/nfl-live-win-probability/venv/lib/python3.9/site-packages/sklearn/metrics/_scorer.py\", line 309, in _score\n",
      "    return self._sign * self._score_func(y, y_pred, **self._kwargs)\n",
      "  File \"/var/folders/dq/tcxv3s4j7y585_4jhfbdvrx00000gn/T/ipykernel_5492/753821780.py\", line 2, in ProbaScoreProxy\n",
      "    return proxied_func(y_true, y_probs, **kwargs)\n",
      "  File \"/Users/lucashaupt/Documents/GitHub/nfl-live-win-probability/venv/lib/python3.9/site-packages/sklearn/metrics/_classification.py\", line 2641, in brier_score_loss\n",
      "    pos_label = _check_pos_label_consistency(pos_label, y_true)\n",
      "  File \"/Users/lucashaupt/Documents/GitHub/nfl-live-win-probability/venv/lib/python3.9/site-packages/sklearn/metrics/_base.py\", line 243, in _check_pos_label_consistency\n",
      "    raise ValueError(\n",
      "ValueError: y_true takes value in {'L', 'W'} and pos_label is not specified: either make y_true take value in {0, 1} or {-1, 1} or pass pos_label explicitly.\n",
      "\n",
      "  warnings.warn(\n"
     ]
    },
    {
     "name": "stdout",
     "output_type": "stream",
     "text": [
      "0:\tlearn: 0.6534709\ttest: 0.6544433\tbest: 0.6544433 (0)\ttotal: 318ms\tremaining: 52m 55s\n",
      "10:\tlearn: 0.4791157\ttest: 0.5072738\tbest: 0.5072738 (10)\ttotal: 3.71s\tremaining: 56m 11s\n",
      "20:\tlearn: 0.4291647\ttest: 0.4846583\tbest: 0.4826419 (19)\ttotal: 6.83s\tremaining: 54m 4s\n",
      "Stopped by overfitting detector  (5 iterations wait)\n",
      "\n",
      "bestTest = 0.482641874\n",
      "bestIteration = 19\n",
      "\n",
      "Shrink model to first 20 iterations.\n"
     ]
    },
    {
     "name": "stderr",
     "output_type": "stream",
     "text": [
      "/Users/lucashaupt/Documents/GitHub/nfl-live-win-probability/venv/lib/python3.9/site-packages/sklearn/model_selection/_validation.py:771: UserWarning: Scoring failed. The score on this train-test partition for these parameters will be set to nan. Details: \n",
      "Traceback (most recent call last):\n",
      "  File \"/Users/lucashaupt/Documents/GitHub/nfl-live-win-probability/venv/lib/python3.9/site-packages/sklearn/model_selection/_validation.py\", line 762, in _score\n",
      "    scores = scorer(estimator, X_test, y_test)\n",
      "  File \"/Users/lucashaupt/Documents/GitHub/nfl-live-win-probability/venv/lib/python3.9/site-packages/sklearn/metrics/_scorer.py\", line 216, in __call__\n",
      "    return self._score(\n",
      "  File \"/Users/lucashaupt/Documents/GitHub/nfl-live-win-probability/venv/lib/python3.9/site-packages/sklearn/metrics/_scorer.py\", line 309, in _score\n",
      "    return self._sign * self._score_func(y, y_pred, **self._kwargs)\n",
      "  File \"/var/folders/dq/tcxv3s4j7y585_4jhfbdvrx00000gn/T/ipykernel_5492/753821780.py\", line 2, in ProbaScoreProxy\n",
      "    return proxied_func(y_true, y_probs, **kwargs)\n",
      "  File \"/Users/lucashaupt/Documents/GitHub/nfl-live-win-probability/venv/lib/python3.9/site-packages/sklearn/metrics/_classification.py\", line 2641, in brier_score_loss\n",
      "    pos_label = _check_pos_label_consistency(pos_label, y_true)\n",
      "  File \"/Users/lucashaupt/Documents/GitHub/nfl-live-win-probability/venv/lib/python3.9/site-packages/sklearn/metrics/_base.py\", line 243, in _check_pos_label_consistency\n",
      "    raise ValueError(\n",
      "ValueError: y_true takes value in {'L', 'W'} and pos_label is not specified: either make y_true take value in {0, 1} or {-1, 1} or pass pos_label explicitly.\n",
      "\n",
      "  warnings.warn(\n"
     ]
    },
    {
     "name": "stdout",
     "output_type": "stream",
     "text": [
      "0:\tlearn: 0.6522100\ttest: 0.6533061\tbest: 0.6533061 (0)\ttotal: 224ms\tremaining: 37m 18s\n",
      "10:\tlearn: 0.4804734\ttest: 0.5021764\tbest: 0.5021764 (10)\ttotal: 2.74s\tremaining: 41m 30s\n",
      "20:\tlearn: 0.4302429\ttest: 0.4768929\tbest: 0.4768929 (20)\ttotal: 5.14s\tremaining: 40m 42s\n",
      "30:\tlearn: 0.4004592\ttest: 0.4737541\tbest: 0.4721515 (27)\ttotal: 7.53s\tremaining: 40m 20s\n",
      "Stopped by overfitting detector  (5 iterations wait)\n",
      "\n",
      "bestTest = 0.4721514916\n",
      "bestIteration = 27\n",
      "\n",
      "Shrink model to first 28 iterations.\n"
     ]
    },
    {
     "name": "stderr",
     "output_type": "stream",
     "text": [
      "/Users/lucashaupt/Documents/GitHub/nfl-live-win-probability/venv/lib/python3.9/site-packages/sklearn/model_selection/_validation.py:771: UserWarning: Scoring failed. The score on this train-test partition for these parameters will be set to nan. Details: \n",
      "Traceback (most recent call last):\n",
      "  File \"/Users/lucashaupt/Documents/GitHub/nfl-live-win-probability/venv/lib/python3.9/site-packages/sklearn/model_selection/_validation.py\", line 762, in _score\n",
      "    scores = scorer(estimator, X_test, y_test)\n",
      "  File \"/Users/lucashaupt/Documents/GitHub/nfl-live-win-probability/venv/lib/python3.9/site-packages/sklearn/metrics/_scorer.py\", line 216, in __call__\n",
      "    return self._score(\n",
      "  File \"/Users/lucashaupt/Documents/GitHub/nfl-live-win-probability/venv/lib/python3.9/site-packages/sklearn/metrics/_scorer.py\", line 309, in _score\n",
      "    return self._sign * self._score_func(y, y_pred, **self._kwargs)\n",
      "  File \"/var/folders/dq/tcxv3s4j7y585_4jhfbdvrx00000gn/T/ipykernel_5492/753821780.py\", line 2, in ProbaScoreProxy\n",
      "    return proxied_func(y_true, y_probs, **kwargs)\n",
      "  File \"/Users/lucashaupt/Documents/GitHub/nfl-live-win-probability/venv/lib/python3.9/site-packages/sklearn/metrics/_classification.py\", line 2641, in brier_score_loss\n",
      "    pos_label = _check_pos_label_consistency(pos_label, y_true)\n",
      "  File \"/Users/lucashaupt/Documents/GitHub/nfl-live-win-probability/venv/lib/python3.9/site-packages/sklearn/metrics/_base.py\", line 243, in _check_pos_label_consistency\n",
      "    raise ValueError(\n",
      "ValueError: y_true takes value in {'L', 'W'} and pos_label is not specified: either make y_true take value in {0, 1} or {-1, 1} or pass pos_label explicitly.\n",
      "\n",
      "  warnings.warn(\n"
     ]
    },
    {
     "name": "stdout",
     "output_type": "stream",
     "text": [
      "0:\tlearn: 0.6542053\ttest: 0.6558247\tbest: 0.6558247 (0)\ttotal: 410ms\tremaining: 1h 8m 17s\n",
      "10:\tlearn: 0.4798304\ttest: 0.5083823\tbest: 0.5083823 (10)\ttotal: 3.47s\tremaining: 52m 29s\n",
      "20:\tlearn: 0.4257071\ttest: 0.4883945\tbest: 0.4880609 (19)\ttotal: 6.03s\tremaining: 47m 46s\n",
      "Stopped by overfitting detector  (5 iterations wait)\n",
      "\n",
      "bestTest = 0.4855843881\n",
      "bestIteration = 23\n",
      "\n",
      "Shrink model to first 24 iterations.\n"
     ]
    },
    {
     "name": "stderr",
     "output_type": "stream",
     "text": [
      "/Users/lucashaupt/Documents/GitHub/nfl-live-win-probability/venv/lib/python3.9/site-packages/sklearn/model_selection/_validation.py:771: UserWarning: Scoring failed. The score on this train-test partition for these parameters will be set to nan. Details: \n",
      "Traceback (most recent call last):\n",
      "  File \"/Users/lucashaupt/Documents/GitHub/nfl-live-win-probability/venv/lib/python3.9/site-packages/sklearn/model_selection/_validation.py\", line 762, in _score\n",
      "    scores = scorer(estimator, X_test, y_test)\n",
      "  File \"/Users/lucashaupt/Documents/GitHub/nfl-live-win-probability/venv/lib/python3.9/site-packages/sklearn/metrics/_scorer.py\", line 216, in __call__\n",
      "    return self._score(\n",
      "  File \"/Users/lucashaupt/Documents/GitHub/nfl-live-win-probability/venv/lib/python3.9/site-packages/sklearn/metrics/_scorer.py\", line 309, in _score\n",
      "    return self._sign * self._score_func(y, y_pred, **self._kwargs)\n",
      "  File \"/var/folders/dq/tcxv3s4j7y585_4jhfbdvrx00000gn/T/ipykernel_5492/753821780.py\", line 2, in ProbaScoreProxy\n",
      "    return proxied_func(y_true, y_probs, **kwargs)\n",
      "  File \"/Users/lucashaupt/Documents/GitHub/nfl-live-win-probability/venv/lib/python3.9/site-packages/sklearn/metrics/_classification.py\", line 2641, in brier_score_loss\n",
      "    pos_label = _check_pos_label_consistency(pos_label, y_true)\n",
      "  File \"/Users/lucashaupt/Documents/GitHub/nfl-live-win-probability/venv/lib/python3.9/site-packages/sklearn/metrics/_base.py\", line 243, in _check_pos_label_consistency\n",
      "    raise ValueError(\n",
      "ValueError: y_true takes value in {'L', 'W'} and pos_label is not specified: either make y_true take value in {0, 1} or {-1, 1} or pass pos_label explicitly.\n",
      "\n",
      "  warnings.warn(\n"
     ]
    },
    {
     "name": "stdout",
     "output_type": "stream",
     "text": [
      "0:\tlearn: 0.6490084\ttest: 0.6503807\tbest: 0.6503807 (0)\ttotal: 177ms\tremaining: 29m 28s\n",
      "10:\tlearn: 0.4794769\ttest: 0.4993052\tbest: 0.4993052 (10)\ttotal: 1.71s\tremaining: 25m 50s\n",
      "20:\tlearn: 0.4365650\ttest: 0.4831400\tbest: 0.4827332 (15)\ttotal: 3.29s\tremaining: 26m 2s\n",
      "Stopped by overfitting detector  (5 iterations wait)\n",
      "\n",
      "bestTest = 0.4827331911\n",
      "bestIteration = 15\n",
      "\n",
      "Shrink model to first 16 iterations.\n"
     ]
    },
    {
     "name": "stderr",
     "output_type": "stream",
     "text": [
      "/Users/lucashaupt/Documents/GitHub/nfl-live-win-probability/venv/lib/python3.9/site-packages/sklearn/model_selection/_validation.py:771: UserWarning: Scoring failed. The score on this train-test partition for these parameters will be set to nan. Details: \n",
      "Traceback (most recent call last):\n",
      "  File \"/Users/lucashaupt/Documents/GitHub/nfl-live-win-probability/venv/lib/python3.9/site-packages/sklearn/model_selection/_validation.py\", line 762, in _score\n",
      "    scores = scorer(estimator, X_test, y_test)\n",
      "  File \"/Users/lucashaupt/Documents/GitHub/nfl-live-win-probability/venv/lib/python3.9/site-packages/sklearn/metrics/_scorer.py\", line 216, in __call__\n",
      "    return self._score(\n",
      "  File \"/Users/lucashaupt/Documents/GitHub/nfl-live-win-probability/venv/lib/python3.9/site-packages/sklearn/metrics/_scorer.py\", line 309, in _score\n",
      "    return self._sign * self._score_func(y, y_pred, **self._kwargs)\n",
      "  File \"/var/folders/dq/tcxv3s4j7y585_4jhfbdvrx00000gn/T/ipykernel_5492/753821780.py\", line 2, in ProbaScoreProxy\n",
      "    return proxied_func(y_true, y_probs, **kwargs)\n",
      "  File \"/Users/lucashaupt/Documents/GitHub/nfl-live-win-probability/venv/lib/python3.9/site-packages/sklearn/metrics/_classification.py\", line 2641, in brier_score_loss\n",
      "    pos_label = _check_pos_label_consistency(pos_label, y_true)\n",
      "  File \"/Users/lucashaupt/Documents/GitHub/nfl-live-win-probability/venv/lib/python3.9/site-packages/sklearn/metrics/_base.py\", line 243, in _check_pos_label_consistency\n",
      "    raise ValueError(\n",
      "ValueError: y_true takes value in {'L', 'W'} and pos_label is not specified: either make y_true take value in {0, 1} or {-1, 1} or pass pos_label explicitly.\n",
      "\n",
      "  warnings.warn(\n"
     ]
    },
    {
     "name": "stdout",
     "output_type": "stream",
     "text": [
      "0:\tlearn: 0.6486099\ttest: 0.6498334\tbest: 0.6498334 (0)\ttotal: 153ms\tremaining: 25m 32s\n",
      "10:\tlearn: 0.4820107\ttest: 0.4956485\tbest: 0.4956485 (10)\ttotal: 1.73s\tremaining: 26m 12s\n",
      "20:\tlearn: 0.4389728\ttest: 0.4737965\tbest: 0.4730335 (19)\ttotal: 3.36s\tremaining: 26m 36s\n",
      "Stopped by overfitting detector  (5 iterations wait)\n",
      "\n",
      "bestTest = 0.4730335453\n",
      "bestIteration = 19\n",
      "\n",
      "Shrink model to first 20 iterations.\n"
     ]
    },
    {
     "name": "stderr",
     "output_type": "stream",
     "text": [
      "/Users/lucashaupt/Documents/GitHub/nfl-live-win-probability/venv/lib/python3.9/site-packages/sklearn/model_selection/_validation.py:771: UserWarning: Scoring failed. The score on this train-test partition for these parameters will be set to nan. Details: \n",
      "Traceback (most recent call last):\n",
      "  File \"/Users/lucashaupt/Documents/GitHub/nfl-live-win-probability/venv/lib/python3.9/site-packages/sklearn/model_selection/_validation.py\", line 762, in _score\n",
      "    scores = scorer(estimator, X_test, y_test)\n",
      "  File \"/Users/lucashaupt/Documents/GitHub/nfl-live-win-probability/venv/lib/python3.9/site-packages/sklearn/metrics/_scorer.py\", line 216, in __call__\n",
      "    return self._score(\n",
      "  File \"/Users/lucashaupt/Documents/GitHub/nfl-live-win-probability/venv/lib/python3.9/site-packages/sklearn/metrics/_scorer.py\", line 309, in _score\n",
      "    return self._sign * self._score_func(y, y_pred, **self._kwargs)\n",
      "  File \"/var/folders/dq/tcxv3s4j7y585_4jhfbdvrx00000gn/T/ipykernel_5492/753821780.py\", line 2, in ProbaScoreProxy\n",
      "    return proxied_func(y_true, y_probs, **kwargs)\n",
      "  File \"/Users/lucashaupt/Documents/GitHub/nfl-live-win-probability/venv/lib/python3.9/site-packages/sklearn/metrics/_classification.py\", line 2641, in brier_score_loss\n",
      "    pos_label = _check_pos_label_consistency(pos_label, y_true)\n",
      "  File \"/Users/lucashaupt/Documents/GitHub/nfl-live-win-probability/venv/lib/python3.9/site-packages/sklearn/metrics/_base.py\", line 243, in _check_pos_label_consistency\n",
      "    raise ValueError(\n",
      "ValueError: y_true takes value in {'L', 'W'} and pos_label is not specified: either make y_true take value in {0, 1} or {-1, 1} or pass pos_label explicitly.\n",
      "\n",
      "  warnings.warn(\n"
     ]
    },
    {
     "name": "stdout",
     "output_type": "stream",
     "text": [
      "0:\tlearn: 0.6482135\ttest: 0.6493437\tbest: 0.6493437 (0)\ttotal: 142ms\tremaining: 23m 41s\n",
      "10:\tlearn: 0.4767074\ttest: 0.5011898\tbest: 0.5011898 (10)\ttotal: 1.65s\tremaining: 24m 58s\n",
      "20:\tlearn: 0.4290795\ttest: 0.4798828\tbest: 0.4798828 (20)\ttotal: 3.18s\tremaining: 25m 13s\n",
      "Stopped by overfitting detector  (5 iterations wait)\n",
      "\n",
      "bestTest = 0.4743849272\n",
      "bestIteration = 24\n",
      "\n",
      "Shrink model to first 25 iterations.\n"
     ]
    },
    {
     "name": "stderr",
     "output_type": "stream",
     "text": [
      "/Users/lucashaupt/Documents/GitHub/nfl-live-win-probability/venv/lib/python3.9/site-packages/sklearn/model_selection/_validation.py:771: UserWarning: Scoring failed. The score on this train-test partition for these parameters will be set to nan. Details: \n",
      "Traceback (most recent call last):\n",
      "  File \"/Users/lucashaupt/Documents/GitHub/nfl-live-win-probability/venv/lib/python3.9/site-packages/sklearn/model_selection/_validation.py\", line 762, in _score\n",
      "    scores = scorer(estimator, X_test, y_test)\n",
      "  File \"/Users/lucashaupt/Documents/GitHub/nfl-live-win-probability/venv/lib/python3.9/site-packages/sklearn/metrics/_scorer.py\", line 216, in __call__\n",
      "    return self._score(\n",
      "  File \"/Users/lucashaupt/Documents/GitHub/nfl-live-win-probability/venv/lib/python3.9/site-packages/sklearn/metrics/_scorer.py\", line 309, in _score\n",
      "    return self._sign * self._score_func(y, y_pred, **self._kwargs)\n",
      "  File \"/var/folders/dq/tcxv3s4j7y585_4jhfbdvrx00000gn/T/ipykernel_5492/753821780.py\", line 2, in ProbaScoreProxy\n",
      "    return proxied_func(y_true, y_probs, **kwargs)\n",
      "  File \"/Users/lucashaupt/Documents/GitHub/nfl-live-win-probability/venv/lib/python3.9/site-packages/sklearn/metrics/_classification.py\", line 2641, in brier_score_loss\n",
      "    pos_label = _check_pos_label_consistency(pos_label, y_true)\n",
      "  File \"/Users/lucashaupt/Documents/GitHub/nfl-live-win-probability/venv/lib/python3.9/site-packages/sklearn/metrics/_base.py\", line 243, in _check_pos_label_consistency\n",
      "    raise ValueError(\n",
      "ValueError: y_true takes value in {'L', 'W'} and pos_label is not specified: either make y_true take value in {0, 1} or {-1, 1} or pass pos_label explicitly.\n",
      "\n",
      "  warnings.warn(\n"
     ]
    },
    {
     "name": "stdout",
     "output_type": "stream",
     "text": [
      "0:\tlearn: 0.6491660\ttest: 0.6529155\tbest: 0.6529155 (0)\ttotal: 553ms\tremaining: 1h 32m 6s\n",
      "10:\tlearn: 0.4600199\ttest: 0.5055101\tbest: 0.5055101 (10)\ttotal: 5.13s\tremaining: 1h 17m 39s\n",
      "20:\tlearn: 0.4009845\ttest: 0.4893553\tbest: 0.4875657 (17)\ttotal: 9.55s\tremaining: 1h 15m 38s\n",
      "30:\tlearn: 0.3692546\ttest: 0.4847408\tbest: 0.4847408 (30)\ttotal: 15s\tremaining: 1h 20m 9s\n",
      "Stopped by overfitting detector  (5 iterations wait)\n",
      "\n",
      "bestTest = 0.4829887764\n",
      "bestIteration = 33\n",
      "\n",
      "Shrink model to first 34 iterations.\n"
     ]
    },
    {
     "name": "stderr",
     "output_type": "stream",
     "text": [
      "/Users/lucashaupt/Documents/GitHub/nfl-live-win-probability/venv/lib/python3.9/site-packages/sklearn/model_selection/_validation.py:771: UserWarning: Scoring failed. The score on this train-test partition for these parameters will be set to nan. Details: \n",
      "Traceback (most recent call last):\n",
      "  File \"/Users/lucashaupt/Documents/GitHub/nfl-live-win-probability/venv/lib/python3.9/site-packages/sklearn/model_selection/_validation.py\", line 762, in _score\n",
      "    scores = scorer(estimator, X_test, y_test)\n",
      "  File \"/Users/lucashaupt/Documents/GitHub/nfl-live-win-probability/venv/lib/python3.9/site-packages/sklearn/metrics/_scorer.py\", line 216, in __call__\n",
      "    return self._score(\n",
      "  File \"/Users/lucashaupt/Documents/GitHub/nfl-live-win-probability/venv/lib/python3.9/site-packages/sklearn/metrics/_scorer.py\", line 309, in _score\n",
      "    return self._sign * self._score_func(y, y_pred, **self._kwargs)\n",
      "  File \"/var/folders/dq/tcxv3s4j7y585_4jhfbdvrx00000gn/T/ipykernel_5492/753821780.py\", line 2, in ProbaScoreProxy\n",
      "    return proxied_func(y_true, y_probs, **kwargs)\n",
      "  File \"/Users/lucashaupt/Documents/GitHub/nfl-live-win-probability/venv/lib/python3.9/site-packages/sklearn/metrics/_classification.py\", line 2641, in brier_score_loss\n",
      "    pos_label = _check_pos_label_consistency(pos_label, y_true)\n",
      "  File \"/Users/lucashaupt/Documents/GitHub/nfl-live-win-probability/venv/lib/python3.9/site-packages/sklearn/metrics/_base.py\", line 243, in _check_pos_label_consistency\n",
      "    raise ValueError(\n",
      "ValueError: y_true takes value in {'L', 'W'} and pos_label is not specified: either make y_true take value in {0, 1} or {-1, 1} or pass pos_label explicitly.\n",
      "\n",
      "  warnings.warn(\n"
     ]
    },
    {
     "name": "stdout",
     "output_type": "stream",
     "text": [
      "0:\tlearn: 0.6485985\ttest: 0.6527267\tbest: 0.6527267 (0)\ttotal: 587ms\tremaining: 1h 37m 48s\n",
      "10:\tlearn: 0.4614535\ttest: 0.4949470\tbest: 0.4949470 (10)\ttotal: 5.93s\tremaining: 1h 29m 42s\n",
      "20:\tlearn: 0.4052478\ttest: 0.4727487\tbest: 0.4726825 (19)\ttotal: 11.2s\tremaining: 1h 28m 46s\n",
      "Stopped by overfitting detector  (5 iterations wait)\n",
      "\n",
      "bestTest = 0.4726825223\n",
      "bestIteration = 19\n",
      "\n",
      "Shrink model to first 20 iterations.\n"
     ]
    },
    {
     "name": "stderr",
     "output_type": "stream",
     "text": [
      "/Users/lucashaupt/Documents/GitHub/nfl-live-win-probability/venv/lib/python3.9/site-packages/sklearn/model_selection/_validation.py:771: UserWarning: Scoring failed. The score on this train-test partition for these parameters will be set to nan. Details: \n",
      "Traceback (most recent call last):\n",
      "  File \"/Users/lucashaupt/Documents/GitHub/nfl-live-win-probability/venv/lib/python3.9/site-packages/sklearn/model_selection/_validation.py\", line 762, in _score\n",
      "    scores = scorer(estimator, X_test, y_test)\n",
      "  File \"/Users/lucashaupt/Documents/GitHub/nfl-live-win-probability/venv/lib/python3.9/site-packages/sklearn/metrics/_scorer.py\", line 216, in __call__\n",
      "    return self._score(\n",
      "  File \"/Users/lucashaupt/Documents/GitHub/nfl-live-win-probability/venv/lib/python3.9/site-packages/sklearn/metrics/_scorer.py\", line 309, in _score\n",
      "    return self._sign * self._score_func(y, y_pred, **self._kwargs)\n",
      "  File \"/var/folders/dq/tcxv3s4j7y585_4jhfbdvrx00000gn/T/ipykernel_5492/753821780.py\", line 2, in ProbaScoreProxy\n",
      "    return proxied_func(y_true, y_probs, **kwargs)\n",
      "  File \"/Users/lucashaupt/Documents/GitHub/nfl-live-win-probability/venv/lib/python3.9/site-packages/sklearn/metrics/_classification.py\", line 2641, in brier_score_loss\n",
      "    pos_label = _check_pos_label_consistency(pos_label, y_true)\n",
      "  File \"/Users/lucashaupt/Documents/GitHub/nfl-live-win-probability/venv/lib/python3.9/site-packages/sklearn/metrics/_base.py\", line 243, in _check_pos_label_consistency\n",
      "    raise ValueError(\n",
      "ValueError: y_true takes value in {'L', 'W'} and pos_label is not specified: either make y_true take value in {0, 1} or {-1, 1} or pass pos_label explicitly.\n",
      "\n",
      "  warnings.warn(\n"
     ]
    },
    {
     "name": "stdout",
     "output_type": "stream",
     "text": [
      "0:\tlearn: 0.6497400\ttest: 0.6530193\tbest: 0.6530193 (0)\ttotal: 426ms\tremaining: 1h 11m 2s\n",
      "10:\tlearn: 0.4595490\ttest: 0.5010192\tbest: 0.5010192 (10)\ttotal: 5.86s\tremaining: 1h 28m 36s\n",
      "20:\tlearn: 0.3956952\ttest: 0.4876865\tbest: 0.4876865 (20)\ttotal: 10.6s\tremaining: 1h 24m 18s\n",
      "Stopped by overfitting detector  (5 iterations wait)\n",
      "\n",
      "bestTest = 0.4864537129\n",
      "bestIteration = 23\n",
      "\n",
      "Shrink model to first 24 iterations.\n"
     ]
    },
    {
     "name": "stderr",
     "output_type": "stream",
     "text": [
      "/Users/lucashaupt/Documents/GitHub/nfl-live-win-probability/venv/lib/python3.9/site-packages/sklearn/model_selection/_validation.py:771: UserWarning: Scoring failed. The score on this train-test partition for these parameters will be set to nan. Details: \n",
      "Traceback (most recent call last):\n",
      "  File \"/Users/lucashaupt/Documents/GitHub/nfl-live-win-probability/venv/lib/python3.9/site-packages/sklearn/model_selection/_validation.py\", line 762, in _score\n",
      "    scores = scorer(estimator, X_test, y_test)\n",
      "  File \"/Users/lucashaupt/Documents/GitHub/nfl-live-win-probability/venv/lib/python3.9/site-packages/sklearn/metrics/_scorer.py\", line 216, in __call__\n",
      "    return self._score(\n",
      "  File \"/Users/lucashaupt/Documents/GitHub/nfl-live-win-probability/venv/lib/python3.9/site-packages/sklearn/metrics/_scorer.py\", line 309, in _score\n",
      "    return self._sign * self._score_func(y, y_pred, **self._kwargs)\n",
      "  File \"/var/folders/dq/tcxv3s4j7y585_4jhfbdvrx00000gn/T/ipykernel_5492/753821780.py\", line 2, in ProbaScoreProxy\n",
      "    return proxied_func(y_true, y_probs, **kwargs)\n",
      "  File \"/Users/lucashaupt/Documents/GitHub/nfl-live-win-probability/venv/lib/python3.9/site-packages/sklearn/metrics/_classification.py\", line 2641, in brier_score_loss\n",
      "    pos_label = _check_pos_label_consistency(pos_label, y_true)\n",
      "  File \"/Users/lucashaupt/Documents/GitHub/nfl-live-win-probability/venv/lib/python3.9/site-packages/sklearn/metrics/_base.py\", line 243, in _check_pos_label_consistency\n",
      "    raise ValueError(\n",
      "ValueError: y_true takes value in {'L', 'W'} and pos_label is not specified: either make y_true take value in {0, 1} or {-1, 1} or pass pos_label explicitly.\n",
      "\n",
      "  warnings.warn(\n"
     ]
    },
    {
     "name": "stdout",
     "output_type": "stream",
     "text": [
      "0:\tlearn: 0.6657627\ttest: 0.6675570\tbest: 0.6675570 (0)\ttotal: 824ms\tremaining: 2h 17m 23s\n",
      "10:\tlearn: 0.5064955\ttest: 0.5423531\tbest: 0.5423531 (10)\ttotal: 9.14s\tremaining: 2h 18m 18s\n",
      "20:\tlearn: 0.4411704\ttest: 0.5056005\tbest: 0.5056005 (20)\ttotal: 17.5s\tremaining: 2h 18m 58s\n",
      "30:\tlearn: 0.4021418\ttest: 0.4927331\tbest: 0.4927331 (30)\ttotal: 26.5s\tremaining: 2h 22m 13s\n",
      "40:\tlearn: 0.3764224\ttest: 0.4897254\tbest: 0.4886762 (38)\ttotal: 34.8s\tremaining: 2h 20m 41s\n",
      "Stopped by overfitting detector  (5 iterations wait)\n",
      "\n",
      "bestTest = 0.4886762125\n",
      "bestIteration = 38\n",
      "\n",
      "Shrink model to first 39 iterations.\n"
     ]
    },
    {
     "name": "stderr",
     "output_type": "stream",
     "text": [
      "/Users/lucashaupt/Documents/GitHub/nfl-live-win-probability/venv/lib/python3.9/site-packages/sklearn/model_selection/_validation.py:771: UserWarning: Scoring failed. The score on this train-test partition for these parameters will be set to nan. Details: \n",
      "Traceback (most recent call last):\n",
      "  File \"/Users/lucashaupt/Documents/GitHub/nfl-live-win-probability/venv/lib/python3.9/site-packages/sklearn/model_selection/_validation.py\", line 762, in _score\n",
      "    scores = scorer(estimator, X_test, y_test)\n",
      "  File \"/Users/lucashaupt/Documents/GitHub/nfl-live-win-probability/venv/lib/python3.9/site-packages/sklearn/metrics/_scorer.py\", line 216, in __call__\n",
      "    return self._score(\n",
      "  File \"/Users/lucashaupt/Documents/GitHub/nfl-live-win-probability/venv/lib/python3.9/site-packages/sklearn/metrics/_scorer.py\", line 309, in _score\n",
      "    return self._sign * self._score_func(y, y_pred, **self._kwargs)\n",
      "  File \"/var/folders/dq/tcxv3s4j7y585_4jhfbdvrx00000gn/T/ipykernel_5492/753821780.py\", line 2, in ProbaScoreProxy\n",
      "    return proxied_func(y_true, y_probs, **kwargs)\n",
      "  File \"/Users/lucashaupt/Documents/GitHub/nfl-live-win-probability/venv/lib/python3.9/site-packages/sklearn/metrics/_classification.py\", line 2641, in brier_score_loss\n",
      "    pos_label = _check_pos_label_consistency(pos_label, y_true)\n",
      "  File \"/Users/lucashaupt/Documents/GitHub/nfl-live-win-probability/venv/lib/python3.9/site-packages/sklearn/metrics/_base.py\", line 243, in _check_pos_label_consistency\n",
      "    raise ValueError(\n",
      "ValueError: y_true takes value in {'L', 'W'} and pos_label is not specified: either make y_true take value in {0, 1} or {-1, 1} or pass pos_label explicitly.\n",
      "\n",
      "  warnings.warn(\n"
     ]
    },
    {
     "name": "stdout",
     "output_type": "stream",
     "text": [
      "0:\tlearn: 0.6651574\ttest: 0.6694769\tbest: 0.6694769 (0)\ttotal: 1.28s\tremaining: 3h 32m 40s\n",
      "10:\tlearn: 0.5079836\ttest: 0.5408913\tbest: 0.5408913 (10)\ttotal: 11.2s\tremaining: 2h 48m 46s\n",
      "20:\tlearn: 0.4422538\ttest: 0.4942999\tbest: 0.4942999 (20)\ttotal: 19.9s\tremaining: 2h 37m 30s\n",
      "30:\tlearn: 0.4040040\ttest: 0.4841558\tbest: 0.4832217 (28)\ttotal: 30s\tremaining: 2h 40m 36s\n",
      "40:\tlearn: 0.3789287\ttest: 0.4804975\tbest: 0.4789991 (39)\ttotal: 40.3s\tremaining: 2h 43m 14s\n",
      "Stopped by overfitting detector  (5 iterations wait)\n",
      "\n",
      "bestTest = 0.4789990993\n",
      "bestIteration = 39\n",
      "\n",
      "Shrink model to first 40 iterations.\n"
     ]
    },
    {
     "name": "stderr",
     "output_type": "stream",
     "text": [
      "/Users/lucashaupt/Documents/GitHub/nfl-live-win-probability/venv/lib/python3.9/site-packages/sklearn/model_selection/_validation.py:771: UserWarning: Scoring failed. The score on this train-test partition for these parameters will be set to nan. Details: \n",
      "Traceback (most recent call last):\n",
      "  File \"/Users/lucashaupt/Documents/GitHub/nfl-live-win-probability/venv/lib/python3.9/site-packages/sklearn/model_selection/_validation.py\", line 762, in _score\n",
      "    scores = scorer(estimator, X_test, y_test)\n",
      "  File \"/Users/lucashaupt/Documents/GitHub/nfl-live-win-probability/venv/lib/python3.9/site-packages/sklearn/metrics/_scorer.py\", line 216, in __call__\n",
      "    return self._score(\n",
      "  File \"/Users/lucashaupt/Documents/GitHub/nfl-live-win-probability/venv/lib/python3.9/site-packages/sklearn/metrics/_scorer.py\", line 309, in _score\n",
      "    return self._sign * self._score_func(y, y_pred, **self._kwargs)\n",
      "  File \"/var/folders/dq/tcxv3s4j7y585_4jhfbdvrx00000gn/T/ipykernel_5492/753821780.py\", line 2, in ProbaScoreProxy\n",
      "    return proxied_func(y_true, y_probs, **kwargs)\n",
      "  File \"/Users/lucashaupt/Documents/GitHub/nfl-live-win-probability/venv/lib/python3.9/site-packages/sklearn/metrics/_classification.py\", line 2641, in brier_score_loss\n",
      "    pos_label = _check_pos_label_consistency(pos_label, y_true)\n",
      "  File \"/Users/lucashaupt/Documents/GitHub/nfl-live-win-probability/venv/lib/python3.9/site-packages/sklearn/metrics/_base.py\", line 243, in _check_pos_label_consistency\n",
      "    raise ValueError(\n",
      "ValueError: y_true takes value in {'L', 'W'} and pos_label is not specified: either make y_true take value in {0, 1} or {-1, 1} or pass pos_label explicitly.\n",
      "\n",
      "  warnings.warn(\n"
     ]
    },
    {
     "name": "stdout",
     "output_type": "stream",
     "text": [
      "0:\tlearn: 0.6670051\ttest: 0.6689733\tbest: 0.6689733 (0)\ttotal: 1.06s\tremaining: 2h 56m 42s\n",
      "10:\tlearn: 0.5059005\ttest: 0.5381616\tbest: 0.5381616 (10)\ttotal: 12.7s\tremaining: 3h 12m 32s\n",
      "20:\tlearn: 0.4409687\ttest: 0.4984060\tbest: 0.4984060 (20)\ttotal: 24.8s\tremaining: 3h 16m 22s\n",
      "30:\tlearn: 0.4001317\ttest: 0.4855906\tbest: 0.4855906 (30)\ttotal: 37.1s\tremaining: 3h 19m 2s\n",
      "40:\tlearn: 0.3693541\ttest: 0.4838973\tbest: 0.4822336 (36)\ttotal: 51.8s\tremaining: 3h 29m 39s\n",
      "Stopped by overfitting detector  (5 iterations wait)\n",
      "\n",
      "bestTest = 0.4822335737\n",
      "bestIteration = 36\n",
      "\n",
      "Shrink model to first 37 iterations.\n"
     ]
    },
    {
     "name": "stderr",
     "output_type": "stream",
     "text": [
      "/Users/lucashaupt/Documents/GitHub/nfl-live-win-probability/venv/lib/python3.9/site-packages/sklearn/model_selection/_validation.py:771: UserWarning: Scoring failed. The score on this train-test partition for these parameters will be set to nan. Details: \n",
      "Traceback (most recent call last):\n",
      "  File \"/Users/lucashaupt/Documents/GitHub/nfl-live-win-probability/venv/lib/python3.9/site-packages/sklearn/model_selection/_validation.py\", line 762, in _score\n",
      "    scores = scorer(estimator, X_test, y_test)\n",
      "  File \"/Users/lucashaupt/Documents/GitHub/nfl-live-win-probability/venv/lib/python3.9/site-packages/sklearn/metrics/_scorer.py\", line 216, in __call__\n",
      "    return self._score(\n",
      "  File \"/Users/lucashaupt/Documents/GitHub/nfl-live-win-probability/venv/lib/python3.9/site-packages/sklearn/metrics/_scorer.py\", line 309, in _score\n",
      "    return self._sign * self._score_func(y, y_pred, **self._kwargs)\n",
      "  File \"/var/folders/dq/tcxv3s4j7y585_4jhfbdvrx00000gn/T/ipykernel_5492/753821780.py\", line 2, in ProbaScoreProxy\n",
      "    return proxied_func(y_true, y_probs, **kwargs)\n",
      "  File \"/Users/lucashaupt/Documents/GitHub/nfl-live-win-probability/venv/lib/python3.9/site-packages/sklearn/metrics/_classification.py\", line 2641, in brier_score_loss\n",
      "    pos_label = _check_pos_label_consistency(pos_label, y_true)\n",
      "  File \"/Users/lucashaupt/Documents/GitHub/nfl-live-win-probability/venv/lib/python3.9/site-packages/sklearn/metrics/_base.py\", line 243, in _check_pos_label_consistency\n",
      "    raise ValueError(\n",
      "ValueError: y_true takes value in {'L', 'W'} and pos_label is not specified: either make y_true take value in {0, 1} or {-1, 1} or pass pos_label explicitly.\n",
      "\n",
      "  warnings.warn(\n"
     ]
    },
    {
     "name": "stdout",
     "output_type": "stream",
     "text": [
      "0:\tlearn: 0.6443423\ttest: 0.6445134\tbest: 0.6445134 (0)\ttotal: 208ms\tremaining: 34m 38s\n",
      "10:\tlearn: 0.4893112\ttest: 0.4946389\tbest: 0.4946389 (10)\ttotal: 2.15s\tremaining: 32m 37s\n",
      "20:\tlearn: 0.4552899\ttest: 0.4781296\tbest: 0.4764512 (19)\ttotal: 4.12s\tremaining: 32m 37s\n",
      "30:\tlearn: 0.4371126\ttest: 0.4787846\tbest: 0.4748105 (25)\ttotal: 6.2s\tremaining: 33m 13s\n",
      "Stopped by overfitting detector  (5 iterations wait)\n",
      "\n",
      "bestTest = 0.4748104505\n",
      "bestIteration = 25\n",
      "\n",
      "Shrink model to first 26 iterations.\n"
     ]
    },
    {
     "name": "stderr",
     "output_type": "stream",
     "text": [
      "/Users/lucashaupt/Documents/GitHub/nfl-live-win-probability/venv/lib/python3.9/site-packages/sklearn/model_selection/_validation.py:771: UserWarning: Scoring failed. The score on this train-test partition for these parameters will be set to nan. Details: \n",
      "Traceback (most recent call last):\n",
      "  File \"/Users/lucashaupt/Documents/GitHub/nfl-live-win-probability/venv/lib/python3.9/site-packages/sklearn/model_selection/_validation.py\", line 762, in _score\n",
      "    scores = scorer(estimator, X_test, y_test)\n",
      "  File \"/Users/lucashaupt/Documents/GitHub/nfl-live-win-probability/venv/lib/python3.9/site-packages/sklearn/metrics/_scorer.py\", line 216, in __call__\n",
      "    return self._score(\n",
      "  File \"/Users/lucashaupt/Documents/GitHub/nfl-live-win-probability/venv/lib/python3.9/site-packages/sklearn/metrics/_scorer.py\", line 309, in _score\n",
      "    return self._sign * self._score_func(y, y_pred, **self._kwargs)\n",
      "  File \"/var/folders/dq/tcxv3s4j7y585_4jhfbdvrx00000gn/T/ipykernel_5492/753821780.py\", line 2, in ProbaScoreProxy\n",
      "    return proxied_func(y_true, y_probs, **kwargs)\n",
      "  File \"/Users/lucashaupt/Documents/GitHub/nfl-live-win-probability/venv/lib/python3.9/site-packages/sklearn/metrics/_classification.py\", line 2641, in brier_score_loss\n",
      "    pos_label = _check_pos_label_consistency(pos_label, y_true)\n",
      "  File \"/Users/lucashaupt/Documents/GitHub/nfl-live-win-probability/venv/lib/python3.9/site-packages/sklearn/metrics/_base.py\", line 243, in _check_pos_label_consistency\n",
      "    raise ValueError(\n",
      "ValueError: y_true takes value in {'L', 'W'} and pos_label is not specified: either make y_true take value in {0, 1} or {-1, 1} or pass pos_label explicitly.\n",
      "\n",
      "  warnings.warn(\n"
     ]
    },
    {
     "name": "stdout",
     "output_type": "stream",
     "text": [
      "0:\tlearn: 0.6456376\ttest: 0.6478978\tbest: 0.6478978 (0)\ttotal: 144ms\tremaining: 24m 1s\n",
      "10:\tlearn: 0.4910620\ttest: 0.4892596\tbest: 0.4892596 (10)\ttotal: 2.16s\tremaining: 32m 40s\n",
      "20:\tlearn: 0.4578102\ttest: 0.4664207\tbest: 0.4660694 (19)\ttotal: 3.86s\tremaining: 30m 35s\n",
      "Stopped by overfitting detector  (5 iterations wait)\n",
      "\n",
      "bestTest = 0.4645266232\n",
      "bestIteration = 21\n",
      "\n",
      "Shrink model to first 22 iterations.\n"
     ]
    },
    {
     "name": "stderr",
     "output_type": "stream",
     "text": [
      "/Users/lucashaupt/Documents/GitHub/nfl-live-win-probability/venv/lib/python3.9/site-packages/sklearn/model_selection/_validation.py:771: UserWarning: Scoring failed. The score on this train-test partition for these parameters will be set to nan. Details: \n",
      "Traceback (most recent call last):\n",
      "  File \"/Users/lucashaupt/Documents/GitHub/nfl-live-win-probability/venv/lib/python3.9/site-packages/sklearn/model_selection/_validation.py\", line 762, in _score\n",
      "    scores = scorer(estimator, X_test, y_test)\n",
      "  File \"/Users/lucashaupt/Documents/GitHub/nfl-live-win-probability/venv/lib/python3.9/site-packages/sklearn/metrics/_scorer.py\", line 216, in __call__\n",
      "    return self._score(\n",
      "  File \"/Users/lucashaupt/Documents/GitHub/nfl-live-win-probability/venv/lib/python3.9/site-packages/sklearn/metrics/_scorer.py\", line 309, in _score\n",
      "    return self._sign * self._score_func(y, y_pred, **self._kwargs)\n",
      "  File \"/var/folders/dq/tcxv3s4j7y585_4jhfbdvrx00000gn/T/ipykernel_5492/753821780.py\", line 2, in ProbaScoreProxy\n",
      "    return proxied_func(y_true, y_probs, **kwargs)\n",
      "  File \"/Users/lucashaupt/Documents/GitHub/nfl-live-win-probability/venv/lib/python3.9/site-packages/sklearn/metrics/_classification.py\", line 2641, in brier_score_loss\n",
      "    pos_label = _check_pos_label_consistency(pos_label, y_true)\n",
      "  File \"/Users/lucashaupt/Documents/GitHub/nfl-live-win-probability/venv/lib/python3.9/site-packages/sklearn/metrics/_base.py\", line 243, in _check_pos_label_consistency\n",
      "    raise ValueError(\n",
      "ValueError: y_true takes value in {'L', 'W'} and pos_label is not specified: either make y_true take value in {0, 1} or {-1, 1} or pass pos_label explicitly.\n",
      "\n",
      "  warnings.warn(\n"
     ]
    },
    {
     "name": "stdout",
     "output_type": "stream",
     "text": [
      "0:\tlearn: 0.6454197\ttest: 0.6487596\tbest: 0.6487596 (0)\ttotal: 333ms\tremaining: 55m 30s\n",
      "10:\tlearn: 0.4849964\ttest: 0.4984847\tbest: 0.4984847 (10)\ttotal: 2.45s\tremaining: 37m 5s\n",
      "Stopped by overfitting detector  (5 iterations wait)\n",
      "\n",
      "bestTest = 0.4791473063\n",
      "bestIteration = 14\n",
      "\n",
      "Shrink model to first 15 iterations.\n"
     ]
    },
    {
     "name": "stderr",
     "output_type": "stream",
     "text": [
      "/Users/lucashaupt/Documents/GitHub/nfl-live-win-probability/venv/lib/python3.9/site-packages/sklearn/model_selection/_validation.py:771: UserWarning: Scoring failed. The score on this train-test partition for these parameters will be set to nan. Details: \n",
      "Traceback (most recent call last):\n",
      "  File \"/Users/lucashaupt/Documents/GitHub/nfl-live-win-probability/venv/lib/python3.9/site-packages/sklearn/model_selection/_validation.py\", line 762, in _score\n",
      "    scores = scorer(estimator, X_test, y_test)\n",
      "  File \"/Users/lucashaupt/Documents/GitHub/nfl-live-win-probability/venv/lib/python3.9/site-packages/sklearn/metrics/_scorer.py\", line 216, in __call__\n",
      "    return self._score(\n",
      "  File \"/Users/lucashaupt/Documents/GitHub/nfl-live-win-probability/venv/lib/python3.9/site-packages/sklearn/metrics/_scorer.py\", line 309, in _score\n",
      "    return self._sign * self._score_func(y, y_pred, **self._kwargs)\n",
      "  File \"/var/folders/dq/tcxv3s4j7y585_4jhfbdvrx00000gn/T/ipykernel_5492/753821780.py\", line 2, in ProbaScoreProxy\n",
      "    return proxied_func(y_true, y_probs, **kwargs)\n",
      "  File \"/Users/lucashaupt/Documents/GitHub/nfl-live-win-probability/venv/lib/python3.9/site-packages/sklearn/metrics/_classification.py\", line 2641, in brier_score_loss\n",
      "    pos_label = _check_pos_label_consistency(pos_label, y_true)\n",
      "  File \"/Users/lucashaupt/Documents/GitHub/nfl-live-win-probability/venv/lib/python3.9/site-packages/sklearn/metrics/_base.py\", line 243, in _check_pos_label_consistency\n",
      "    raise ValueError(\n",
      "ValueError: y_true takes value in {'L', 'W'} and pos_label is not specified: either make y_true take value in {0, 1} or {-1, 1} or pass pos_label explicitly.\n",
      "\n",
      "  warnings.warn(\n"
     ]
    },
    {
     "name": "stdout",
     "output_type": "stream",
     "text": [
      "0:\tlearn: 0.6641598\ttest: 0.6649309\tbest: 0.6649309 (0)\ttotal: 334ms\tremaining: 55m 37s\n",
      "10:\tlearn: 0.5178537\ttest: 0.5237375\tbest: 0.5237375 (10)\ttotal: 2.62s\tremaining: 39m 38s\n",
      "20:\tlearn: 0.4720562\ttest: 0.4927431\tbest: 0.4927431 (20)\ttotal: 4.57s\tremaining: 36m 9s\n",
      "30:\tlearn: 0.4490064\ttest: 0.4838861\tbest: 0.4838861 (30)\ttotal: 7.11s\tremaining: 38m 5s\n",
      "40:\tlearn: 0.4330244\ttest: 0.4792128\tbest: 0.4792128 (40)\ttotal: 9.4s\tremaining: 38m 4s\n",
      "50:\tlearn: 0.4190282\ttest: 0.4777819\tbest: 0.4767751 (47)\ttotal: 11.8s\tremaining: 38m 30s\n",
      "Stopped by overfitting detector  (5 iterations wait)\n",
      "\n",
      "bestTest = 0.476775056\n",
      "bestIteration = 47\n",
      "\n",
      "Shrink model to first 48 iterations.\n"
     ]
    },
    {
     "name": "stderr",
     "output_type": "stream",
     "text": [
      "/Users/lucashaupt/Documents/GitHub/nfl-live-win-probability/venv/lib/python3.9/site-packages/sklearn/model_selection/_validation.py:771: UserWarning: Scoring failed. The score on this train-test partition for these parameters will be set to nan. Details: \n",
      "Traceback (most recent call last):\n",
      "  File \"/Users/lucashaupt/Documents/GitHub/nfl-live-win-probability/venv/lib/python3.9/site-packages/sklearn/model_selection/_validation.py\", line 762, in _score\n",
      "    scores = scorer(estimator, X_test, y_test)\n",
      "  File \"/Users/lucashaupt/Documents/GitHub/nfl-live-win-probability/venv/lib/python3.9/site-packages/sklearn/metrics/_scorer.py\", line 216, in __call__\n",
      "    return self._score(\n",
      "  File \"/Users/lucashaupt/Documents/GitHub/nfl-live-win-probability/venv/lib/python3.9/site-packages/sklearn/metrics/_scorer.py\", line 309, in _score\n",
      "    return self._sign * self._score_func(y, y_pred, **self._kwargs)\n",
      "  File \"/var/folders/dq/tcxv3s4j7y585_4jhfbdvrx00000gn/T/ipykernel_5492/753821780.py\", line 2, in ProbaScoreProxy\n",
      "    return proxied_func(y_true, y_probs, **kwargs)\n",
      "  File \"/Users/lucashaupt/Documents/GitHub/nfl-live-win-probability/venv/lib/python3.9/site-packages/sklearn/metrics/_classification.py\", line 2641, in brier_score_loss\n",
      "    pos_label = _check_pos_label_consistency(pos_label, y_true)\n",
      "  File \"/Users/lucashaupt/Documents/GitHub/nfl-live-win-probability/venv/lib/python3.9/site-packages/sklearn/metrics/_base.py\", line 243, in _check_pos_label_consistency\n",
      "    raise ValueError(\n",
      "ValueError: y_true takes value in {'L', 'W'} and pos_label is not specified: either make y_true take value in {0, 1} or {-1, 1} or pass pos_label explicitly.\n",
      "\n",
      "  warnings.warn(\n"
     ]
    },
    {
     "name": "stdout",
     "output_type": "stream",
     "text": [
      "0:\tlearn: 0.6628850\ttest: 0.6633376\tbest: 0.6633376 (0)\ttotal: 195ms\tremaining: 32m 27s\n",
      "10:\tlearn: 0.5204030\ttest: 0.5235340\tbest: 0.5235340 (10)\ttotal: 2.41s\tremaining: 36m 29s\n",
      "20:\tlearn: 0.4748586\ttest: 0.4864158\tbest: 0.4864158 (20)\ttotal: 4.56s\tremaining: 36m 7s\n",
      "30:\tlearn: 0.4495852\ttest: 0.4707116\tbest: 0.4707116 (30)\ttotal: 6.7s\tremaining: 35m 53s\n",
      "40:\tlearn: 0.4348198\ttest: 0.4670377\tbest: 0.4670377 (40)\ttotal: 9.28s\tremaining: 37m 35s\n",
      "Stopped by overfitting detector  (5 iterations wait)\n",
      "\n",
      "bestTest = 0.4652409811\n",
      "bestIteration = 43\n",
      "\n",
      "Shrink model to first 44 iterations.\n"
     ]
    },
    {
     "name": "stderr",
     "output_type": "stream",
     "text": [
      "/Users/lucashaupt/Documents/GitHub/nfl-live-win-probability/venv/lib/python3.9/site-packages/sklearn/model_selection/_validation.py:771: UserWarning: Scoring failed. The score on this train-test partition for these parameters will be set to nan. Details: \n",
      "Traceback (most recent call last):\n",
      "  File \"/Users/lucashaupt/Documents/GitHub/nfl-live-win-probability/venv/lib/python3.9/site-packages/sklearn/model_selection/_validation.py\", line 762, in _score\n",
      "    scores = scorer(estimator, X_test, y_test)\n",
      "  File \"/Users/lucashaupt/Documents/GitHub/nfl-live-win-probability/venv/lib/python3.9/site-packages/sklearn/metrics/_scorer.py\", line 216, in __call__\n",
      "    return self._score(\n",
      "  File \"/Users/lucashaupt/Documents/GitHub/nfl-live-win-probability/venv/lib/python3.9/site-packages/sklearn/metrics/_scorer.py\", line 309, in _score\n",
      "    return self._sign * self._score_func(y, y_pred, **self._kwargs)\n",
      "  File \"/var/folders/dq/tcxv3s4j7y585_4jhfbdvrx00000gn/T/ipykernel_5492/753821780.py\", line 2, in ProbaScoreProxy\n",
      "    return proxied_func(y_true, y_probs, **kwargs)\n",
      "  File \"/Users/lucashaupt/Documents/GitHub/nfl-live-win-probability/venv/lib/python3.9/site-packages/sklearn/metrics/_classification.py\", line 2641, in brier_score_loss\n",
      "    pos_label = _check_pos_label_consistency(pos_label, y_true)\n",
      "  File \"/Users/lucashaupt/Documents/GitHub/nfl-live-win-probability/venv/lib/python3.9/site-packages/sklearn/metrics/_base.py\", line 243, in _check_pos_label_consistency\n",
      "    raise ValueError(\n",
      "ValueError: y_true takes value in {'L', 'W'} and pos_label is not specified: either make y_true take value in {0, 1} or {-1, 1} or pass pos_label explicitly.\n",
      "\n",
      "  warnings.warn(\n"
     ]
    },
    {
     "name": "stdout",
     "output_type": "stream",
     "text": [
      "0:\tlearn: 0.6627875\ttest: 0.6637229\tbest: 0.6637229 (0)\ttotal: 227ms\tremaining: 37m 47s\n",
      "10:\tlearn: 0.5164803\ttest: 0.5284997\tbest: 0.5284997 (10)\ttotal: 2.27s\tremaining: 34m 24s\n",
      "20:\tlearn: 0.4701819\ttest: 0.4890025\tbest: 0.4890025 (20)\ttotal: 4.31s\tremaining: 34m 8s\n",
      "30:\tlearn: 0.4455687\ttest: 0.4753890\tbest: 0.4753890 (30)\ttotal: 6.72s\tremaining: 36m 2s\n",
      "Stopped by overfitting detector  (5 iterations wait)\n",
      "\n",
      "bestTest = 0.4729648109\n",
      "bestIteration = 32\n",
      "\n",
      "Shrink model to first 33 iterations.\n"
     ]
    },
    {
     "name": "stderr",
     "output_type": "stream",
     "text": [
      "/Users/lucashaupt/Documents/GitHub/nfl-live-win-probability/venv/lib/python3.9/site-packages/sklearn/model_selection/_validation.py:771: UserWarning: Scoring failed. The score on this train-test partition for these parameters will be set to nan. Details: \n",
      "Traceback (most recent call last):\n",
      "  File \"/Users/lucashaupt/Documents/GitHub/nfl-live-win-probability/venv/lib/python3.9/site-packages/sklearn/model_selection/_validation.py\", line 762, in _score\n",
      "    scores = scorer(estimator, X_test, y_test)\n",
      "  File \"/Users/lucashaupt/Documents/GitHub/nfl-live-win-probability/venv/lib/python3.9/site-packages/sklearn/metrics/_scorer.py\", line 216, in __call__\n",
      "    return self._score(\n",
      "  File \"/Users/lucashaupt/Documents/GitHub/nfl-live-win-probability/venv/lib/python3.9/site-packages/sklearn/metrics/_scorer.py\", line 309, in _score\n",
      "    return self._sign * self._score_func(y, y_pred, **self._kwargs)\n",
      "  File \"/var/folders/dq/tcxv3s4j7y585_4jhfbdvrx00000gn/T/ipykernel_5492/753821780.py\", line 2, in ProbaScoreProxy\n",
      "    return proxied_func(y_true, y_probs, **kwargs)\n",
      "  File \"/Users/lucashaupt/Documents/GitHub/nfl-live-win-probability/venv/lib/python3.9/site-packages/sklearn/metrics/_classification.py\", line 2641, in brier_score_loss\n",
      "    pos_label = _check_pos_label_consistency(pos_label, y_true)\n",
      "  File \"/Users/lucashaupt/Documents/GitHub/nfl-live-win-probability/venv/lib/python3.9/site-packages/sklearn/metrics/_base.py\", line 243, in _check_pos_label_consistency\n",
      "    raise ValueError(\n",
      "ValueError: y_true takes value in {'L', 'W'} and pos_label is not specified: either make y_true take value in {0, 1} or {-1, 1} or pass pos_label explicitly.\n",
      "\n",
      "  warnings.warn(\n"
     ]
    },
    {
     "name": "stdout",
     "output_type": "stream",
     "text": [
      "0:\tlearn: 0.6842058\ttest: 0.6842549\tbest: 0.6842549 (0)\ttotal: 146ms\tremaining: 24m 15s\n",
      "10:\tlearn: 0.6118025\ttest: 0.6136750\tbest: 0.6136750 (10)\ttotal: 1.77s\tremaining: 26m 46s\n",
      "20:\tlearn: 0.5667146\ttest: 0.5694084\tbest: 0.5694084 (20)\ttotal: 3.35s\tremaining: 26m 32s\n",
      "30:\tlearn: 0.5360295\ttest: 0.5401241\tbest: 0.5401241 (30)\ttotal: 4.9s\tremaining: 26m 14s\n",
      "40:\tlearn: 0.5155754\ttest: 0.5208118\tbest: 0.5208118 (40)\ttotal: 6.63s\tremaining: 26m 51s\n",
      "50:\tlearn: 0.4997322\ttest: 0.5075525\tbest: 0.5075525 (50)\ttotal: 8.23s\tremaining: 26m 46s\n",
      "60:\tlearn: 0.4881705\ttest: 0.4991789\tbest: 0.4991789 (60)\ttotal: 9.75s\tremaining: 26m 28s\n",
      "70:\tlearn: 0.4787389\ttest: 0.4932686\tbest: 0.4932025 (69)\ttotal: 11.4s\tremaining: 26m 38s\n",
      "80:\tlearn: 0.4715328\ttest: 0.4880603\tbest: 0.4880603 (80)\ttotal: 13.1s\tremaining: 26m 48s\n",
      "90:\tlearn: 0.4645889\ttest: 0.4840591\tbest: 0.4840591 (90)\ttotal: 14.7s\tremaining: 26m 42s\n",
      "100:\tlearn: 0.4590402\ttest: 0.4821769\tbest: 0.4821769 (100)\ttotal: 16.3s\tremaining: 26m 39s\n",
      "110:\tlearn: 0.4542116\ttest: 0.4804465\tbest: 0.4800763 (109)\ttotal: 17.9s\tremaining: 26m 35s\n",
      "120:\tlearn: 0.4496558\ttest: 0.4791850\tbest: 0.4791850 (120)\ttotal: 19.5s\tremaining: 26m 33s\n",
      "Stopped by overfitting detector  (5 iterations wait)\n",
      "\n",
      "bestTest = 0.4791849516\n",
      "bestIteration = 120\n",
      "\n",
      "Shrink model to first 121 iterations.\n"
     ]
    },
    {
     "name": "stderr",
     "output_type": "stream",
     "text": [
      "/Users/lucashaupt/Documents/GitHub/nfl-live-win-probability/venv/lib/python3.9/site-packages/sklearn/model_selection/_validation.py:771: UserWarning: Scoring failed. The score on this train-test partition for these parameters will be set to nan. Details: \n",
      "Traceback (most recent call last):\n",
      "  File \"/Users/lucashaupt/Documents/GitHub/nfl-live-win-probability/venv/lib/python3.9/site-packages/sklearn/model_selection/_validation.py\", line 762, in _score\n",
      "    scores = scorer(estimator, X_test, y_test)\n",
      "  File \"/Users/lucashaupt/Documents/GitHub/nfl-live-win-probability/venv/lib/python3.9/site-packages/sklearn/metrics/_scorer.py\", line 216, in __call__\n",
      "    return self._score(\n",
      "  File \"/Users/lucashaupt/Documents/GitHub/nfl-live-win-probability/venv/lib/python3.9/site-packages/sklearn/metrics/_scorer.py\", line 309, in _score\n",
      "    return self._sign * self._score_func(y, y_pred, **self._kwargs)\n",
      "  File \"/var/folders/dq/tcxv3s4j7y585_4jhfbdvrx00000gn/T/ipykernel_5492/753821780.py\", line 2, in ProbaScoreProxy\n",
      "    return proxied_func(y_true, y_probs, **kwargs)\n",
      "  File \"/Users/lucashaupt/Documents/GitHub/nfl-live-win-probability/venv/lib/python3.9/site-packages/sklearn/metrics/_classification.py\", line 2641, in brier_score_loss\n",
      "    pos_label = _check_pos_label_consistency(pos_label, y_true)\n",
      "  File \"/Users/lucashaupt/Documents/GitHub/nfl-live-win-probability/venv/lib/python3.9/site-packages/sklearn/metrics/_base.py\", line 243, in _check_pos_label_consistency\n",
      "    raise ValueError(\n",
      "ValueError: y_true takes value in {'L', 'W'} and pos_label is not specified: either make y_true take value in {0, 1} or {-1, 1} or pass pos_label explicitly.\n",
      "\n",
      "  warnings.warn(\n"
     ]
    },
    {
     "name": "stdout",
     "output_type": "stream",
     "text": [
      "0:\tlearn: 0.6840679\ttest: 0.6842237\tbest: 0.6842237 (0)\ttotal: 167ms\tremaining: 27m 50s\n",
      "10:\tlearn: 0.6152817\ttest: 0.6154926\tbest: 0.6154926 (10)\ttotal: 1.73s\tremaining: 26m 14s\n",
      "20:\tlearn: 0.5704242\ttest: 0.5728189\tbest: 0.5728189 (20)\ttotal: 3.27s\tremaining: 25m 56s\n",
      "30:\tlearn: 0.5394498\ttest: 0.5417887\tbest: 0.5417887 (30)\ttotal: 4.85s\tremaining: 25m 58s\n",
      "40:\tlearn: 0.5178618\ttest: 0.5216927\tbest: 0.5216927 (40)\ttotal: 6.39s\tremaining: 25m 51s\n",
      "50:\tlearn: 0.5023329\ttest: 0.5056297\tbest: 0.5056297 (50)\ttotal: 7.98s\tremaining: 25m 56s\n",
      "60:\tlearn: 0.4904943\ttest: 0.4947373\tbest: 0.4947373 (60)\ttotal: 9.51s\tremaining: 25m 49s\n",
      "70:\tlearn: 0.4812603\ttest: 0.4861508\tbest: 0.4861508 (70)\ttotal: 11.1s\tremaining: 25m 48s\n",
      "80:\tlearn: 0.4735939\ttest: 0.4798337\tbest: 0.4798337 (80)\ttotal: 12.6s\tremaining: 25m 48s\n",
      "90:\tlearn: 0.4668565\ttest: 0.4752720\tbest: 0.4752720 (90)\ttotal: 14.2s\tremaining: 25m 42s\n",
      "100:\tlearn: 0.4602992\ttest: 0.4710583\tbest: 0.4710583 (100)\ttotal: 15.8s\tremaining: 25m 43s\n",
      "110:\tlearn: 0.4555666\ttest: 0.4688771\tbest: 0.4688771 (110)\ttotal: 17.2s\tremaining: 25m 35s\n",
      "120:\tlearn: 0.4508580\ttest: 0.4680912\tbest: 0.4680912 (120)\ttotal: 18.8s\tremaining: 25m 31s\n",
      "130:\tlearn: 0.4471155\ttest: 0.4665850\tbest: 0.4665850 (130)\ttotal: 20.3s\tremaining: 25m 28s\n",
      "140:\tlearn: 0.4435631\ttest: 0.4657066\tbest: 0.4656606 (139)\ttotal: 21.8s\tremaining: 25m 23s\n",
      "150:\tlearn: 0.4400696\ttest: 0.4647129\tbest: 0.4647129 (150)\ttotal: 23.4s\tremaining: 25m 25s\n",
      "160:\tlearn: 0.4370490\ttest: 0.4641948\tbest: 0.4640892 (159)\ttotal: 25s\tremaining: 25m 27s\n",
      "Stopped by overfitting detector  (5 iterations wait)\n",
      "\n",
      "bestTest = 0.4640248771\n",
      "bestIteration = 162\n",
      "\n",
      "Shrink model to first 163 iterations.\n"
     ]
    },
    {
     "name": "stderr",
     "output_type": "stream",
     "text": [
      "/Users/lucashaupt/Documents/GitHub/nfl-live-win-probability/venv/lib/python3.9/site-packages/sklearn/model_selection/_validation.py:771: UserWarning: Scoring failed. The score on this train-test partition for these parameters will be set to nan. Details: \n",
      "Traceback (most recent call last):\n",
      "  File \"/Users/lucashaupt/Documents/GitHub/nfl-live-win-probability/venv/lib/python3.9/site-packages/sklearn/model_selection/_validation.py\", line 762, in _score\n",
      "    scores = scorer(estimator, X_test, y_test)\n",
      "  File \"/Users/lucashaupt/Documents/GitHub/nfl-live-win-probability/venv/lib/python3.9/site-packages/sklearn/metrics/_scorer.py\", line 216, in __call__\n",
      "    return self._score(\n",
      "  File \"/Users/lucashaupt/Documents/GitHub/nfl-live-win-probability/venv/lib/python3.9/site-packages/sklearn/metrics/_scorer.py\", line 309, in _score\n",
      "    return self._sign * self._score_func(y, y_pred, **self._kwargs)\n",
      "  File \"/var/folders/dq/tcxv3s4j7y585_4jhfbdvrx00000gn/T/ipykernel_5492/753821780.py\", line 2, in ProbaScoreProxy\n",
      "    return proxied_func(y_true, y_probs, **kwargs)\n",
      "  File \"/Users/lucashaupt/Documents/GitHub/nfl-live-win-probability/venv/lib/python3.9/site-packages/sklearn/metrics/_classification.py\", line 2641, in brier_score_loss\n",
      "    pos_label = _check_pos_label_consistency(pos_label, y_true)\n",
      "  File \"/Users/lucashaupt/Documents/GitHub/nfl-live-win-probability/venv/lib/python3.9/site-packages/sklearn/metrics/_base.py\", line 243, in _check_pos_label_consistency\n",
      "    raise ValueError(\n",
      "ValueError: y_true takes value in {'L', 'W'} and pos_label is not specified: either make y_true take value in {0, 1} or {-1, 1} or pass pos_label explicitly.\n",
      "\n",
      "  warnings.warn(\n"
     ]
    },
    {
     "name": "stdout",
     "output_type": "stream",
     "text": [
      "0:\tlearn: 0.6845140\ttest: 0.6851277\tbest: 0.6851277 (0)\ttotal: 154ms\tremaining: 25m 37s\n",
      "10:\tlearn: 0.6116183\ttest: 0.6178976\tbest: 0.6178976 (10)\ttotal: 1.68s\tremaining: 25m 22s\n",
      "20:\tlearn: 0.5661447\ttest: 0.5741765\tbest: 0.5741765 (20)\ttotal: 3.55s\tremaining: 28m 8s\n",
      "30:\tlearn: 0.5354106\ttest: 0.5451203\tbest: 0.5451203 (30)\ttotal: 5.17s\tremaining: 27m 41s\n",
      "40:\tlearn: 0.5134423\ttest: 0.5246179\tbest: 0.5246179 (40)\ttotal: 6.68s\tremaining: 27m 3s\n",
      "50:\tlearn: 0.4975294\ttest: 0.5105681\tbest: 0.5105681 (50)\ttotal: 8.29s\tremaining: 26m 56s\n",
      "60:\tlearn: 0.4848303\ttest: 0.4997957\tbest: 0.4997957 (60)\ttotal: 9.84s\tremaining: 26m 42s\n",
      "70:\tlearn: 0.4747412\ttest: 0.4912397\tbest: 0.4912397 (70)\ttotal: 11.4s\tremaining: 26m 36s\n",
      "80:\tlearn: 0.4664964\ttest: 0.4862526\tbest: 0.4862526 (80)\ttotal: 13s\tremaining: 26m 32s\n",
      "90:\tlearn: 0.4598799\ttest: 0.4828149\tbest: 0.4828149 (90)\ttotal: 14.6s\tremaining: 26m 28s\n",
      "100:\tlearn: 0.4537037\ttest: 0.4800131\tbest: 0.4800131 (100)\ttotal: 16.2s\tremaining: 26m 23s\n",
      "110:\tlearn: 0.4479185\ttest: 0.4786223\tbest: 0.4778863 (107)\ttotal: 17.7s\tremaining: 26m 18s\n",
      "Stopped by overfitting detector  (5 iterations wait)\n",
      "\n",
      "bestTest = 0.4778862875\n",
      "bestIteration = 107\n",
      "\n",
      "Shrink model to first 108 iterations.\n"
     ]
    },
    {
     "name": "stderr",
     "output_type": "stream",
     "text": [
      "/Users/lucashaupt/Documents/GitHub/nfl-live-win-probability/venv/lib/python3.9/site-packages/sklearn/model_selection/_validation.py:771: UserWarning: Scoring failed. The score on this train-test partition for these parameters will be set to nan. Details: \n",
      "Traceback (most recent call last):\n",
      "  File \"/Users/lucashaupt/Documents/GitHub/nfl-live-win-probability/venv/lib/python3.9/site-packages/sklearn/model_selection/_validation.py\", line 762, in _score\n",
      "    scores = scorer(estimator, X_test, y_test)\n",
      "  File \"/Users/lucashaupt/Documents/GitHub/nfl-live-win-probability/venv/lib/python3.9/site-packages/sklearn/metrics/_scorer.py\", line 216, in __call__\n",
      "    return self._score(\n",
      "  File \"/Users/lucashaupt/Documents/GitHub/nfl-live-win-probability/venv/lib/python3.9/site-packages/sklearn/metrics/_scorer.py\", line 309, in _score\n",
      "    return self._sign * self._score_func(y, y_pred, **self._kwargs)\n",
      "  File \"/var/folders/dq/tcxv3s4j7y585_4jhfbdvrx00000gn/T/ipykernel_5492/753821780.py\", line 2, in ProbaScoreProxy\n",
      "    return proxied_func(y_true, y_probs, **kwargs)\n",
      "  File \"/Users/lucashaupt/Documents/GitHub/nfl-live-win-probability/venv/lib/python3.9/site-packages/sklearn/metrics/_classification.py\", line 2641, in brier_score_loss\n",
      "    pos_label = _check_pos_label_consistency(pos_label, y_true)\n",
      "  File \"/Users/lucashaupt/Documents/GitHub/nfl-live-win-probability/venv/lib/python3.9/site-packages/sklearn/metrics/_base.py\", line 243, in _check_pos_label_consistency\n",
      "    raise ValueError(\n",
      "ValueError: y_true takes value in {'L', 'W'} and pos_label is not specified: either make y_true take value in {0, 1} or {-1, 1} or pass pos_label explicitly.\n",
      "\n",
      "  warnings.warn(\n"
     ]
    },
    {
     "name": "stdout",
     "output_type": "stream",
     "text": [
      "0:\tlearn: 0.6618114\ttest: 0.6644204\tbest: 0.6644204 (0)\ttotal: 584ms\tremaining: 1h 37m 22s\n",
      "10:\tlearn: 0.4941471\ttest: 0.5304763\tbest: 0.5304763 (10)\ttotal: 7.13s\tremaining: 1h 47m 50s\n",
      "20:\tlearn: 0.4355129\ttest: 0.4926985\tbest: 0.4926985 (20)\ttotal: 14.5s\tremaining: 1h 54m 35s\n",
      "30:\tlearn: 0.3995843\ttest: 0.4853412\tbest: 0.4843415 (27)\ttotal: 20.6s\tremaining: 1h 50m 14s\n",
      "Stopped by overfitting detector  (5 iterations wait)\n",
      "\n",
      "bestTest = 0.4843414766\n",
      "bestIteration = 27\n",
      "\n",
      "Shrink model to first 28 iterations.\n"
     ]
    },
    {
     "name": "stderr",
     "output_type": "stream",
     "text": [
      "/Users/lucashaupt/Documents/GitHub/nfl-live-win-probability/venv/lib/python3.9/site-packages/sklearn/model_selection/_validation.py:771: UserWarning: Scoring failed. The score on this train-test partition for these parameters will be set to nan. Details: \n",
      "Traceback (most recent call last):\n",
      "  File \"/Users/lucashaupt/Documents/GitHub/nfl-live-win-probability/venv/lib/python3.9/site-packages/sklearn/model_selection/_validation.py\", line 762, in _score\n",
      "    scores = scorer(estimator, X_test, y_test)\n",
      "  File \"/Users/lucashaupt/Documents/GitHub/nfl-live-win-probability/venv/lib/python3.9/site-packages/sklearn/metrics/_scorer.py\", line 216, in __call__\n",
      "    return self._score(\n",
      "  File \"/Users/lucashaupt/Documents/GitHub/nfl-live-win-probability/venv/lib/python3.9/site-packages/sklearn/metrics/_scorer.py\", line 309, in _score\n",
      "    return self._sign * self._score_func(y, y_pred, **self._kwargs)\n",
      "  File \"/var/folders/dq/tcxv3s4j7y585_4jhfbdvrx00000gn/T/ipykernel_5492/753821780.py\", line 2, in ProbaScoreProxy\n",
      "    return proxied_func(y_true, y_probs, **kwargs)\n",
      "  File \"/Users/lucashaupt/Documents/GitHub/nfl-live-win-probability/venv/lib/python3.9/site-packages/sklearn/metrics/_classification.py\", line 2641, in brier_score_loss\n",
      "    pos_label = _check_pos_label_consistency(pos_label, y_true)\n",
      "  File \"/Users/lucashaupt/Documents/GitHub/nfl-live-win-probability/venv/lib/python3.9/site-packages/sklearn/metrics/_base.py\", line 243, in _check_pos_label_consistency\n",
      "    raise ValueError(\n",
      "ValueError: y_true takes value in {'L', 'W'} and pos_label is not specified: either make y_true take value in {0, 1} or {-1, 1} or pass pos_label explicitly.\n",
      "\n",
      "  warnings.warn(\n"
     ]
    },
    {
     "name": "stdout",
     "output_type": "stream",
     "text": [
      "0:\tlearn: 0.6610842\ttest: 0.6645871\tbest: 0.6645871 (0)\ttotal: 614ms\tremaining: 1h 42m 23s\n",
      "10:\tlearn: 0.4933859\ttest: 0.5207637\tbest: 0.5207637 (10)\ttotal: 6.94s\tremaining: 1h 45m 4s\n",
      "20:\tlearn: 0.4384448\ttest: 0.4868381\tbest: 0.4868381 (20)\ttotal: 13.3s\tremaining: 1h 45m 23s\n",
      "30:\tlearn: 0.4017687\ttest: 0.4789041\tbest: 0.4789041 (30)\ttotal: 19.8s\tremaining: 1h 46m 19s\n",
      "40:\tlearn: 0.3782823\ttest: 0.4760779\tbest: 0.4747515 (39)\ttotal: 26.3s\tremaining: 1h 46m 35s\n",
      "Stopped by overfitting detector  (5 iterations wait)\n",
      "\n",
      "bestTest = 0.4747514614\n",
      "bestIteration = 39\n",
      "\n",
      "Shrink model to first 40 iterations.\n"
     ]
    },
    {
     "name": "stderr",
     "output_type": "stream",
     "text": [
      "/Users/lucashaupt/Documents/GitHub/nfl-live-win-probability/venv/lib/python3.9/site-packages/sklearn/model_selection/_validation.py:771: UserWarning: Scoring failed. The score on this train-test partition for these parameters will be set to nan. Details: \n",
      "Traceback (most recent call last):\n",
      "  File \"/Users/lucashaupt/Documents/GitHub/nfl-live-win-probability/venv/lib/python3.9/site-packages/sklearn/model_selection/_validation.py\", line 762, in _score\n",
      "    scores = scorer(estimator, X_test, y_test)\n",
      "  File \"/Users/lucashaupt/Documents/GitHub/nfl-live-win-probability/venv/lib/python3.9/site-packages/sklearn/metrics/_scorer.py\", line 216, in __call__\n",
      "    return self._score(\n",
      "  File \"/Users/lucashaupt/Documents/GitHub/nfl-live-win-probability/venv/lib/python3.9/site-packages/sklearn/metrics/_scorer.py\", line 309, in _score\n",
      "    return self._sign * self._score_func(y, y_pred, **self._kwargs)\n",
      "  File \"/var/folders/dq/tcxv3s4j7y585_4jhfbdvrx00000gn/T/ipykernel_5492/753821780.py\", line 2, in ProbaScoreProxy\n",
      "    return proxied_func(y_true, y_probs, **kwargs)\n",
      "  File \"/Users/lucashaupt/Documents/GitHub/nfl-live-win-probability/venv/lib/python3.9/site-packages/sklearn/metrics/_classification.py\", line 2641, in brier_score_loss\n",
      "    pos_label = _check_pos_label_consistency(pos_label, y_true)\n",
      "  File \"/Users/lucashaupt/Documents/GitHub/nfl-live-win-probability/venv/lib/python3.9/site-packages/sklearn/metrics/_base.py\", line 243, in _check_pos_label_consistency\n",
      "    raise ValueError(\n",
      "ValueError: y_true takes value in {'L', 'W'} and pos_label is not specified: either make y_true take value in {0, 1} or {-1, 1} or pass pos_label explicitly.\n",
      "\n",
      "  warnings.warn(\n"
     ]
    },
    {
     "name": "stdout",
     "output_type": "stream",
     "text": [
      "0:\tlearn: 0.6622665\ttest: 0.6643565\tbest: 0.6643565 (0)\ttotal: 613ms\tremaining: 1h 42m 11s\n",
      "10:\tlearn: 0.4918092\ttest: 0.5227922\tbest: 0.5227922 (10)\ttotal: 6.9s\tremaining: 1h 44m 28s\n",
      "20:\tlearn: 0.4308324\ttest: 0.4929712\tbest: 0.4929712 (20)\ttotal: 13.2s\tremaining: 1h 44m 10s\n",
      "30:\tlearn: 0.3963091\ttest: 0.4820722\tbest: 0.4820722 (30)\ttotal: 19.4s\tremaining: 1h 44m 14s\n",
      "Stopped by overfitting detector  (5 iterations wait)\n",
      "\n",
      "bestTest = 0.4820722326\n",
      "bestIteration = 30\n",
      "\n",
      "Shrink model to first 31 iterations.\n"
     ]
    },
    {
     "name": "stderr",
     "output_type": "stream",
     "text": [
      "/Users/lucashaupt/Documents/GitHub/nfl-live-win-probability/venv/lib/python3.9/site-packages/sklearn/model_selection/_validation.py:771: UserWarning: Scoring failed. The score on this train-test partition for these parameters will be set to nan. Details: \n",
      "Traceback (most recent call last):\n",
      "  File \"/Users/lucashaupt/Documents/GitHub/nfl-live-win-probability/venv/lib/python3.9/site-packages/sklearn/model_selection/_validation.py\", line 762, in _score\n",
      "    scores = scorer(estimator, X_test, y_test)\n",
      "  File \"/Users/lucashaupt/Documents/GitHub/nfl-live-win-probability/venv/lib/python3.9/site-packages/sklearn/metrics/_scorer.py\", line 216, in __call__\n",
      "    return self._score(\n",
      "  File \"/Users/lucashaupt/Documents/GitHub/nfl-live-win-probability/venv/lib/python3.9/site-packages/sklearn/metrics/_scorer.py\", line 309, in _score\n",
      "    return self._sign * self._score_func(y, y_pred, **self._kwargs)\n",
      "  File \"/var/folders/dq/tcxv3s4j7y585_4jhfbdvrx00000gn/T/ipykernel_5492/753821780.py\", line 2, in ProbaScoreProxy\n",
      "    return proxied_func(y_true, y_probs, **kwargs)\n",
      "  File \"/Users/lucashaupt/Documents/GitHub/nfl-live-win-probability/venv/lib/python3.9/site-packages/sklearn/metrics/_classification.py\", line 2641, in brier_score_loss\n",
      "    pos_label = _check_pos_label_consistency(pos_label, y_true)\n",
      "  File \"/Users/lucashaupt/Documents/GitHub/nfl-live-win-probability/venv/lib/python3.9/site-packages/sklearn/metrics/_base.py\", line 243, in _check_pos_label_consistency\n",
      "    raise ValueError(\n",
      "ValueError: y_true takes value in {'L', 'W'} and pos_label is not specified: either make y_true take value in {0, 1} or {-1, 1} or pass pos_label explicitly.\n",
      "\n",
      "  warnings.warn(\n",
      "/Users/lucashaupt/Documents/GitHub/nfl-live-win-probability/venv/lib/python3.9/site-packages/sklearn/model_selection/_search.py:969: UserWarning: One or more of the test scores are non-finite: [nan nan nan nan nan nan nan nan nan nan]\n",
      "  warnings.warn(\n"
     ]
    },
    {
     "data": {
      "text/plain": [
       "0"
      ]
     },
     "execution_count": 33,
     "metadata": {},
     "output_type": "execute_result"
    }
   ],
   "source": [
    "hpo_search.fit(\n",
    "    train_df[FEATURES],\n",
    "    y=train_df[TARGET],\n",
    "    groups=train_df[\"game_code\"].values,\n",
    "    **FIT_PARAMS,\n",
    ")\n",
    "import os\n",
    "os.system('say \"done\"')\n"
   ]
  },
  {
   "cell_type": "code",
   "execution_count": 34,
   "metadata": {},
   "outputs": [],
   "source": [
    "test_game = test_df[test_df[\"game_code\"]==2142096]"
   ]
  },
  {
   "cell_type": "code",
   "execution_count": 35,
   "metadata": {},
   "outputs": [
    {
     "data": {
      "text/plain": [
       "[<matplotlib.lines.Line2D at 0x7fe9248435e0>]"
      ]
     },
     "execution_count": 35,
     "metadata": {},
     "output_type": "execute_result"
    },
    {
     "data": {
      "image/png": "[encoded data removed]",
      "text/plain": [
       "<Figure size 432x288 with 1 Axes>"
      ]
     },
     "metadata": {
      "needs_background": "light"
     },
     "output_type": "display_data"
    }
   ],
   "source": [
    "plt.plot(test_game[\"nevent\"], test_game[\"p_W\"])"
   ]
  },
  {
   "cell_type": "code",
   "execution_count": 36,
   "metadata": {},
   "outputs": [
    {
     "name": "stdout",
     "output_type": "stream",
     "text": [
      "0:\tlearn: 0.6288094\ttest: 0.6359478\tbest: 0.6359478 (0)\ttotal: 1.18s\tremaining: 19m 42s\n",
      "1:\tlearn: 0.5853412\ttest: 0.5944417\tbest: 0.5944417 (1)\ttotal: 2.68s\tremaining: 22m 17s\n",
      "2:\tlearn: 0.5495157\ttest: 0.5620870\tbest: 0.5620870 (2)\ttotal: 3.95s\tremaining: 21m 53s\n",
      "3:\tlearn: 0.5217658\ttest: 0.5435432\tbest: 0.5435432 (3)\ttotal: 5.37s\tremaining: 22m 16s\n",
      "4:\tlearn: 0.4985928\ttest: 0.5290020\tbest: 0.5290020 (4)\ttotal: 6.56s\tremaining: 21m 45s\n",
      "5:\tlearn: 0.4818315\ttest: 0.5171300\tbest: 0.5171300 (5)\ttotal: 7.66s\tremaining: 21m 8s\n",
      "6:\tlearn: 0.4697076\ttest: 0.5085527\tbest: 0.5085527 (6)\ttotal: 8.96s\tremaining: 21m 10s\n",
      "7:\tlearn: 0.4570467\ttest: 0.5045743\tbest: 0.5045743 (7)\ttotal: 10.1s\tremaining: 20m 53s\n",
      "8:\tlearn: 0.4486732\ttest: 0.4998462\tbest: 0.4998462 (8)\ttotal: 11.5s\tremaining: 21m 1s\n",
      "9:\tlearn: 0.4394656\ttest: 0.4965175\tbest: 0.4965175 (9)\ttotal: 12.6s\tremaining: 20m 51s\n",
      "10:\tlearn: 0.4318855\ttest: 0.4939019\tbest: 0.4939019 (10)\ttotal: 14s\tremaining: 20m 58s\n",
      "11:\tlearn: 0.4245369\ttest: 0.4918122\tbest: 0.4918122 (11)\ttotal: 15.2s\tremaining: 20m 47s\n",
      "12:\tlearn: 0.4196990\ttest: 0.4891725\tbest: 0.4891725 (12)\ttotal: 16.3s\tremaining: 20m 37s\n",
      "13:\tlearn: 0.4128021\ttest: 0.4875598\tbest: 0.4875598 (13)\ttotal: 17.5s\tremaining: 20m 30s\n",
      "14:\tlearn: 0.4068497\ttest: 0.4872618\tbest: 0.4872618 (14)\ttotal: 18.7s\tremaining: 20m 25s\n",
      "15:\tlearn: 0.4021554\ttest: 0.4846789\tbest: 0.4846789 (15)\ttotal: 19.8s\tremaining: 20m 17s\n",
      "16:\tlearn: 0.3983170\ttest: 0.4851329\tbest: 0.4846789 (15)\ttotal: 21s\tremaining: 20m 13s\n",
      "17:\tlearn: 0.3923951\ttest: 0.4846047\tbest: 0.4846047 (17)\ttotal: 22.1s\tremaining: 20m 5s\n",
      "18:\tlearn: 0.3888511\ttest: 0.4844674\tbest: 0.4844674 (18)\ttotal: 23.3s\tremaining: 20m 2s\n",
      "19:\tlearn: 0.3852240\ttest: 0.4841029\tbest: 0.4841029 (19)\ttotal: 24.6s\tremaining: 20m 3s\n",
      "20:\tlearn: 0.3814919\ttest: 0.4847123\tbest: 0.4841029 (19)\ttotal: 25.8s\tremaining: 20m 1s\n",
      "21:\tlearn: 0.3775570\ttest: 0.4823934\tbest: 0.4823934 (21)\ttotal: 26.9s\tremaining: 19m 57s\n",
      "22:\tlearn: 0.3754515\ttest: 0.4843796\tbest: 0.4823934 (21)\ttotal: 28.1s\tremaining: 19m 54s\n",
      "23:\tlearn: 0.3725559\ttest: 0.4841439\tbest: 0.4823934 (21)\ttotal: 29.5s\tremaining: 19m 57s\n",
      "24:\tlearn: 0.3693080\ttest: 0.4852080\tbest: 0.4823934 (21)\ttotal: 30.6s\tremaining: 19m 55s\n",
      "25:\tlearn: 0.3653254\ttest: 0.4853854\tbest: 0.4823934 (21)\ttotal: 31.8s\tremaining: 19m 52s\n",
      "26:\tlearn: 0.3635471\ttest: 0.4850489\tbest: 0.4823934 (21)\ttotal: 33s\tremaining: 19m 50s\n",
      "27:\tlearn: 0.3593936\ttest: 0.4885351\tbest: 0.4823934 (21)\ttotal: 34.2s\tremaining: 19m 48s\n",
      "28:\tlearn: 0.3580402\ttest: 0.4885385\tbest: 0.4823934 (21)\ttotal: 35.5s\tremaining: 19m 48s\n",
      "29:\tlearn: 0.3545196\ttest: 0.4892165\tbest: 0.4823934 (21)\ttotal: 36.7s\tremaining: 19m 48s\n",
      "30:\tlearn: 0.3529005\ttest: 0.4898627\tbest: 0.4823934 (21)\ttotal: 38s\tremaining: 19m 46s\n",
      "31:\tlearn: 0.3500058\ttest: 0.4953044\tbest: 0.4823934 (21)\ttotal: 39.1s\tremaining: 19m 41s\n",
      "32:\tlearn: 0.3477615\ttest: 0.4969639\tbest: 0.4823934 (21)\ttotal: 40.2s\tremaining: 19m 37s\n",
      "33:\tlearn: 0.3454839\ttest: 0.4969670\tbest: 0.4823934 (21)\ttotal: 41.4s\tremaining: 19m 37s\n",
      "34:\tlearn: 0.3438138\ttest: 0.4974930\tbest: 0.4823934 (21)\ttotal: 42.7s\tremaining: 19m 36s\n",
      "35:\tlearn: 0.3420734\ttest: 0.4975032\tbest: 0.4823934 (21)\ttotal: 44s\tremaining: 19m 39s\n",
      "36:\tlearn: 0.3400195\ttest: 0.4992337\tbest: 0.4823934 (21)\ttotal: 45.3s\tremaining: 19m 38s\n",
      "37:\tlearn: 0.3373576\ttest: 0.4988199\tbest: 0.4823934 (21)\ttotal: 46.5s\tremaining: 19m 37s\n",
      "38:\tlearn: 0.3336715\ttest: 0.4997460\tbest: 0.4823934 (21)\ttotal: 47.9s\tremaining: 19m 39s\n",
      "39:\tlearn: 0.3300954\ttest: 0.5018038\tbest: 0.4823934 (21)\ttotal: 49.1s\tremaining: 19m 38s\n",
      "40:\tlearn: 0.3287874\ttest: 0.5021099\tbest: 0.4823934 (21)\ttotal: 50.5s\tremaining: 19m 40s\n",
      "41:\tlearn: 0.3269453\ttest: 0.5029992\tbest: 0.4823934 (21)\ttotal: 51.6s\tremaining: 19m 36s\n",
      "42:\tlearn: 0.3269004\ttest: 0.5029174\tbest: 0.4823934 (21)\ttotal: 51.7s\tremaining: 19m 10s\n",
      "43:\tlearn: 0.3233998\ttest: 0.5031938\tbest: 0.4823934 (21)\ttotal: 53.1s\tremaining: 19m 13s\n",
      "44:\tlearn: 0.3218200\ttest: 0.5028943\tbest: 0.4823934 (21)\ttotal: 54.6s\tremaining: 19m 18s\n",
      "45:\tlearn: 0.3185085\ttest: 0.5045992\tbest: 0.4823934 (21)\ttotal: 56s\tremaining: 19m 21s\n",
      "46:\tlearn: 0.3155336\ttest: 0.5052606\tbest: 0.4823934 (21)\ttotal: 57.2s\tremaining: 19m 20s\n",
      "47:\tlearn: 0.3123147\ttest: 0.5067423\tbest: 0.4823934 (21)\ttotal: 58.5s\tremaining: 19m 20s\n",
      "48:\tlearn: 0.3099977\ttest: 0.5088162\tbest: 0.4823934 (21)\ttotal: 59.7s\tremaining: 19m 18s\n",
      "49:\tlearn: 0.3075096\ttest: 0.5107459\tbest: 0.4823934 (21)\ttotal: 1m 1s\tremaining: 19m 19s\n",
      "50:\tlearn: 0.3051650\ttest: 0.5110824\tbest: 0.4823934 (21)\ttotal: 1m 2s\tremaining: 19m 17s\n",
      "51:\tlearn: 0.3031280\ttest: 0.5160385\tbest: 0.4823934 (21)\ttotal: 1m 3s\tremaining: 19m 15s\n",
      "52:\tlearn: 0.3005664\ttest: 0.5185874\tbest: 0.4823934 (21)\ttotal: 1m 4s\tremaining: 19m 16s\n",
      "53:\tlearn: 0.2985431\ttest: 0.5193835\tbest: 0.4823934 (21)\ttotal: 1m 5s\tremaining: 19m 13s\n",
      "54:\tlearn: 0.2957356\ttest: 0.5203324\tbest: 0.4823934 (21)\ttotal: 1m 7s\tremaining: 19m 11s\n",
      "55:\tlearn: 0.2926445\ttest: 0.5199473\tbest: 0.4823934 (21)\ttotal: 1m 8s\tremaining: 19m 9s\n",
      "56:\tlearn: 0.2892375\ttest: 0.5208739\tbest: 0.4823934 (21)\ttotal: 1m 9s\tremaining: 19m 6s\n",
      "57:\tlearn: 0.2882974\ttest: 0.5211236\tbest: 0.4823934 (21)\ttotal: 1m 10s\tremaining: 19m 3s\n",
      "58:\tlearn: 0.2867693\ttest: 0.5211922\tbest: 0.4823934 (21)\ttotal: 1m 11s\tremaining: 19m 1s\n",
      "59:\tlearn: 0.2843997\ttest: 0.5219789\tbest: 0.4823934 (21)\ttotal: 1m 12s\tremaining: 18m 58s\n",
      "60:\tlearn: 0.2828351\ttest: 0.5221367\tbest: 0.4823934 (21)\ttotal: 1m 13s\tremaining: 18m 57s\n",
      "61:\tlearn: 0.2807222\ttest: 0.5232932\tbest: 0.4823934 (21)\ttotal: 1m 15s\tremaining: 18m 56s\n",
      "62:\tlearn: 0.2779168\ttest: 0.5255313\tbest: 0.4823934 (21)\ttotal: 1m 16s\tremaining: 18m 54s\n",
      "63:\tlearn: 0.2769295\ttest: 0.5256517\tbest: 0.4823934 (21)\ttotal: 1m 17s\tremaining: 18m 53s\n",
      "64:\tlearn: 0.2741785\ttest: 0.5261839\tbest: 0.4823934 (21)\ttotal: 1m 18s\tremaining: 18m 50s\n",
      "65:\tlearn: 0.2714438\ttest: 0.5274716\tbest: 0.4823934 (21)\ttotal: 1m 19s\tremaining: 18m 48s\n",
      "66:\tlearn: 0.2696751\ttest: 0.5297057\tbest: 0.4823934 (21)\ttotal: 1m 20s\tremaining: 18m 45s\n",
      "67:\tlearn: 0.2683672\ttest: 0.5321973\tbest: 0.4823934 (21)\ttotal: 1m 21s\tremaining: 18m 43s\n",
      "68:\tlearn: 0.2661712\ttest: 0.5328703\tbest: 0.4823934 (21)\ttotal: 1m 23s\tremaining: 18m 40s\n",
      "69:\tlearn: 0.2646997\ttest: 0.5350645\tbest: 0.4823934 (21)\ttotal: 1m 24s\tremaining: 18m 38s\n",
      "70:\tlearn: 0.2631618\ttest: 0.5371339\tbest: 0.4823934 (21)\ttotal: 1m 25s\tremaining: 18m 36s\n",
      "71:\tlearn: 0.2613651\ttest: 0.5375342\tbest: 0.4823934 (21)\ttotal: 1m 26s\tremaining: 18m 35s\n",
      "72:\tlearn: 0.2600181\ttest: 0.5392242\tbest: 0.4823934 (21)\ttotal: 1m 27s\tremaining: 18m 32s\n",
      "73:\tlearn: 0.2584946\ttest: 0.5402705\tbest: 0.4823934 (21)\ttotal: 1m 28s\tremaining: 18m 30s\n",
      "74:\tlearn: 0.2561136\ttest: 0.5440263\tbest: 0.4823934 (21)\ttotal: 1m 30s\tremaining: 18m 30s\n",
      "75:\tlearn: 0.2538393\ttest: 0.5449648\tbest: 0.4823934 (21)\ttotal: 1m 31s\tremaining: 18m 30s\n",
      "76:\tlearn: 0.2516398\ttest: 0.5447676\tbest: 0.4823934 (21)\ttotal: 1m 32s\tremaining: 18m 28s\n",
      "77:\tlearn: 0.2506347\ttest: 0.5454138\tbest: 0.4823934 (21)\ttotal: 1m 33s\tremaining: 18m 27s\n",
      "78:\tlearn: 0.2486552\ttest: 0.5460419\tbest: 0.4823934 (21)\ttotal: 1m 34s\tremaining: 18m 24s\n",
      "79:\tlearn: 0.2483488\ttest: 0.5458382\tbest: 0.4823934 (21)\ttotal: 1m 35s\tremaining: 18m 23s\n",
      "80:\tlearn: 0.2466382\ttest: 0.5459267\tbest: 0.4823934 (21)\ttotal: 1m 37s\tremaining: 18m 22s\n",
      "81:\tlearn: 0.2465867\ttest: 0.5458756\tbest: 0.4823934 (21)\ttotal: 1m 37s\tremaining: 18m 9s\n",
      "82:\tlearn: 0.2445966\ttest: 0.5457248\tbest: 0.4823934 (21)\ttotal: 1m 38s\tremaining: 18m 7s\n",
      "83:\tlearn: 0.2434330\ttest: 0.5457003\tbest: 0.4823934 (21)\ttotal: 1m 39s\tremaining: 18m 7s\n",
      "84:\tlearn: 0.2411947\ttest: 0.5463670\tbest: 0.4823934 (21)\ttotal: 1m 40s\tremaining: 18m 6s\n",
      "85:\tlearn: 0.2398839\ttest: 0.5482516\tbest: 0.4823934 (21)\ttotal: 1m 41s\tremaining: 18m 3s\n",
      "86:\tlearn: 0.2388990\ttest: 0.5498432\tbest: 0.4823934 (21)\ttotal: 1m 43s\tremaining: 18m 1s\n",
      "87:\tlearn: 0.2364393\ttest: 0.5514720\tbest: 0.4823934 (21)\ttotal: 1m 44s\tremaining: 18m 1s\n",
      "88:\tlearn: 0.2351635\ttest: 0.5524975\tbest: 0.4823934 (21)\ttotal: 1m 45s\tremaining: 17m 59s\n",
      "89:\tlearn: 0.2338986\ttest: 0.5546445\tbest: 0.4823934 (21)\ttotal: 1m 46s\tremaining: 17m 57s\n",
      "90:\tlearn: 0.2329053\ttest: 0.5546245\tbest: 0.4823934 (21)\ttotal: 1m 47s\tremaining: 17m 55s\n",
      "91:\tlearn: 0.2310203\ttest: 0.5573206\tbest: 0.4823934 (21)\ttotal: 1m 48s\tremaining: 17m 55s\n",
      "92:\tlearn: 0.2292801\ttest: 0.5584525\tbest: 0.4823934 (21)\ttotal: 1m 50s\tremaining: 17m 54s\n",
      "93:\tlearn: 0.2281609\ttest: 0.5596798\tbest: 0.4823934 (21)\ttotal: 1m 51s\tremaining: 17m 52s\n",
      "94:\tlearn: 0.2261463\ttest: 0.5599167\tbest: 0.4823934 (21)\ttotal: 1m 52s\tremaining: 17m 51s\n",
      "95:\tlearn: 0.2247801\ttest: 0.5617112\tbest: 0.4823934 (21)\ttotal: 1m 53s\tremaining: 17m 49s\n",
      "96:\tlearn: 0.2232897\ttest: 0.5618518\tbest: 0.4823934 (21)\ttotal: 1m 54s\tremaining: 17m 48s\n",
      "97:\tlearn: 0.2220406\ttest: 0.5646112\tbest: 0.4823934 (21)\ttotal: 1m 55s\tremaining: 17m 46s\n",
      "98:\tlearn: 0.2211357\ttest: 0.5648533\tbest: 0.4823934 (21)\ttotal: 1m 57s\tremaining: 17m 45s\n",
      "99:\tlearn: 0.2191621\ttest: 0.5685947\tbest: 0.4823934 (21)\ttotal: 1m 58s\tremaining: 17m 43s\n",
      "100:\tlearn: 0.2178964\ttest: 0.5703532\tbest: 0.4823934 (21)\ttotal: 1m 59s\tremaining: 17m 42s\n",
      "101:\tlearn: 0.2163066\ttest: 0.5704343\tbest: 0.4823934 (21)\ttotal: 2m\tremaining: 17m 40s\n",
      "102:\tlearn: 0.2143980\ttest: 0.5715986\tbest: 0.4823934 (21)\ttotal: 2m 1s\tremaining: 17m 39s\n",
      "103:\tlearn: 0.2134551\ttest: 0.5715852\tbest: 0.4823934 (21)\ttotal: 2m 3s\tremaining: 17m 40s\n",
      "104:\tlearn: 0.2125899\ttest: 0.5732996\tbest: 0.4823934 (21)\ttotal: 2m 4s\tremaining: 17m 38s\n",
      "105:\tlearn: 0.2116846\ttest: 0.5733720\tbest: 0.4823934 (21)\ttotal: 2m 5s\tremaining: 17m 37s\n",
      "106:\tlearn: 0.2107266\ttest: 0.5750542\tbest: 0.4823934 (21)\ttotal: 2m 6s\tremaining: 17m 35s\n",
      "107:\tlearn: 0.2095453\ttest: 0.5770539\tbest: 0.4823934 (21)\ttotal: 2m 7s\tremaining: 17m 33s\n",
      "108:\tlearn: 0.2086813\ttest: 0.5781363\tbest: 0.4823934 (21)\ttotal: 2m 8s\tremaining: 17m 32s\n",
      "109:\tlearn: 0.2072867\ttest: 0.5784122\tbest: 0.4823934 (21)\ttotal: 2m 10s\tremaining: 17m 33s\n",
      "110:\tlearn: 0.2063908\ttest: 0.5784708\tbest: 0.4823934 (21)\ttotal: 2m 11s\tremaining: 17m 32s\n",
      "111:\tlearn: 0.2053299\ttest: 0.5816598\tbest: 0.4823934 (21)\ttotal: 2m 12s\tremaining: 17m 31s\n",
      "112:\tlearn: 0.2040707\ttest: 0.5811062\tbest: 0.4823934 (21)\ttotal: 2m 13s\tremaining: 17m 29s\n",
      "113:\tlearn: 0.2028303\ttest: 0.5820608\tbest: 0.4823934 (21)\ttotal: 2m 15s\tremaining: 17m 29s\n",
      "114:\tlearn: 0.2022664\ttest: 0.5820848\tbest: 0.4823934 (21)\ttotal: 2m 16s\tremaining: 17m 28s\n",
      "115:\tlearn: 0.2010102\ttest: 0.5855090\tbest: 0.4823934 (21)\ttotal: 2m 17s\tremaining: 17m 26s\n",
      "116:\tlearn: 0.2000562\ttest: 0.5875888\tbest: 0.4823934 (21)\ttotal: 2m 18s\tremaining: 17m 24s\n",
      "117:\tlearn: 0.1989713\ttest: 0.5886949\tbest: 0.4823934 (21)\ttotal: 2m 19s\tremaining: 17m 22s\n",
      "118:\tlearn: 0.1974278\ttest: 0.5916313\tbest: 0.4823934 (21)\ttotal: 2m 20s\tremaining: 17m 21s\n",
      "119:\tlearn: 0.1965737\ttest: 0.5917825\tbest: 0.4823934 (21)\ttotal: 2m 21s\tremaining: 17m 21s\n",
      "120:\tlearn: 0.1953253\ttest: 0.5932227\tbest: 0.4823934 (21)\ttotal: 2m 23s\tremaining: 17m 20s\n",
      "121:\tlearn: 0.1943535\ttest: 0.5937762\tbest: 0.4823934 (21)\ttotal: 2m 24s\tremaining: 17m 18s\n",
      "Stopped by overfitting detector  (100 iterations wait)\n",
      "\n",
      "bestTest = 0.4823934162\n",
      "bestIteration = 21\n",
      "\n",
      "Shrink model to first 22 iterations.\n"
     ]
    },
    {
     "data": {
      "text/plain": [
       "<catboost.core.CatBoostClassifier at 0x7fe924983e50>"
      ]
     },
     "execution_count": 36,
     "metadata": {},
     "output_type": "execute_result"
    }
   ],
   "source": [
    "clf_adj = CatBoostClassifier(**hpo_search.best_params_, early_stopping_rounds=100, cat_features=CATEGORICALS)\n",
    "clf_adj.fit(train_df[FEATURES], train_df[TARGET], eval_set=val_pool)"
   ]
  },
  {
   "cell_type": "code",
   "execution_count": 38,
   "metadata": {},
   "outputs": [
    {
     "name": "stderr",
     "output_type": "stream",
     "text": [
      "/Users/lucashaupt/Documents/GitHub/nfl-live-win-probability/venv/lib/python3.9/site-packages/pandas/core/frame.py:3678: SettingWithCopyWarning: \n",
      "A value is trying to be set on a copy of a slice from a DataFrame.\n",
      "Try using .loc[row_indexer,col_indexer] = value instead\n",
      "\n",
      "See the caveats in the documentation: https://pandas.pydata.org/pandas-docs/stable/user_guide/indexing.html#returning-a-view-versus-a-copy\n",
      "  self[col] = igetitem(value, i)\n"
     ]
    }
   ],
   "source": [
    "train_df[[\"p_away_team_win_new\", \"p_home_team_win_new\"]] = clf_adj.predict_proba(train_df[FEATURES])\n",
    "test_df[[\"p_away_team_win_new\", \"p_home_team_win_new\"]] = clf_adj.predict_proba(test_df[FEATURES])\n",
    "val_df[[\"p_away_team_win_new\", \"p_home_team_win_new\"]] = clf_adj.predict_proba(val_df[FEATURES])"
   ]
  },
  {
   "cell_type": "code",
   "execution_count": null,
   "metadata": {},
   "outputs": [],
   "source": []
  }
 ],
 "metadata": {
  "interpreter": {
   "hash": "f6c5c0c69c1e48657661a596cadc74240e1a54a645d9f5ac259274dfdfc1bdd8"
  },
  "kernelspec": {
   "display_name": "Python 3.9.5 64-bit ('venv': venv)",
   "name": "python3"
  },
  "language_info": {
   "codemirror_mode": {
    "name": "ipython",
    "version": 3
   },
   "file_extension": ".py",
   "mimetype": "text/x-python",
   "name": "python",
   "nbconvert_exporter": "python",
   "pygments_lexer": "ipython3",
   "version": "3.9.5"
  },
  "orig_nbformat": 4
 },
 "nbformat": 4,
 "nbformat_minor": 2
}
