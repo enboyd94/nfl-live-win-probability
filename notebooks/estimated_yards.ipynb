{
 "cells": [
  {
   "cell_type": "code",
   "execution_count": 12,
   "metadata": {},
   "outputs": [],
   "source": [
    "import pandas as pd\n",
    "import matplotlib.pyplot as plt\n",
    "from sklearn import calibration\n",
    "import sklearn.linear_model\n",
    "from catboost import CatBoostClassifier, Pool, CatBoostRegressor\n",
    "from sklearn.model_selection import GroupKFold, RandomizedSearchCV\n",
    "import numpy as np\n",
    "import scipy.stats\n",
    "from sklearn.base import clone\n",
    "from sklearn.model_selection._search import ParameterSampler\n",
    "from sklearn.metrics import brier_score_loss, make_scorer, log_loss, mean_squared_error\n",
    "os.chdir('/Users/lucashaupt/Documents/GitHub/nfl-live-win-probability')\n",
    "from src.generate_data import get_game_data, get_division_data, get_odds_data, get_schedule_data\n",
    "import statsmodels.api as sm"
   ]
  },
  {
   "cell_type": "code",
   "execution_count": 13,
   "metadata": {},
   "outputs": [
    {
     "name": "stdout",
     "output_type": "stream",
     "text": [
      "Running get_game_data... \n",
      "\n",
      "get_game_data is returning cached df\n",
      "get_game_data done in 0 sec.\n",
      "Running get_division_data... \n",
      "\n",
      "get_division_data is returning cached df\n",
      "get_division_data done in 0 sec.\n"
     ]
    }
   ],
   "source": [
    "df = pd.read_csv(\"data/yards_gained_all_seasons.csv\")\n",
    "game_data = get_game_data(cache=True)\n",
    "game_data = game_data.drop_duplicates(\"game_code\")\n",
    "division_data = get_division_data(cache=True)\n",
    "combined_df = df.merge(game_data, on=[\"game_code\", \"season\"], how=\"left\", copy=False)"
   ]
  },
  {
   "cell_type": "code",
   "execution_count": 14,
   "metadata": {},
   "outputs": [],
   "source": [
    "def get_rolling_value(df, freq=16, min_periods=16, shift=1):\n",
    "    cols = [\"total_expected_yards_gained\", \"total_yards_gained\", \"total_yards_added\", \"play_count\"]\n",
    "    df2 = df.rolling(freq, on=\"game_date\", min_periods=min_periods)[cols].mean().shift(shift)\n",
    "    df4 = pd.concat([df[[\"game_code\", \"season\", \"game_date\", \"offense_team\", \"defense_team\", \"home_team_id\", \"vis_team_id\"]],\n",
    "                     df2[[\"total_expected_yards_gained\", \"total_yards_gained\", \"total_yards_added\", \"play_count\"]]], axis=1)\n",
    "    return df4\n"
   ]
  },
  {
   "cell_type": "code",
   "execution_count": 15,
   "metadata": {},
   "outputs": [],
   "source": [
    "aggregate_values = [\"total_expected_yards_gained\", \"total_yards_gained\", \"total_yards_added\", \"play_count\"]\n",
    "group_values = [\"game_code\", \"season\", \"game_date\", \"offense_team\", \"defense_team\", \"home_team_id\", \"vis_team_id\"]\n",
    "game_yards = combined_df[group_values + aggregate_values].groupby(group_values, as_index=False).sum()"
   ]
  },
  {
   "cell_type": "code",
   "execution_count": 16,
   "metadata": {},
   "outputs": [],
   "source": [
    "rolling_offense = game_yards.sort_values(\"game_date\").groupby(\"offense_team\", as_index=False).apply(get_rolling_value)"
   ]
  },
  {
   "cell_type": "code",
   "execution_count": 17,
   "metadata": {},
   "outputs": [],
   "source": [
    "rolling_defense = game_yards.sort_values(\"game_date\").groupby(\"defense_team\", as_index=False).apply(get_rolling_value)"
   ]
  },
  {
   "cell_type": "code",
   "execution_count": 18,
   "metadata": {},
   "outputs": [],
   "source": [
    "game_codes = combined_df[[\"game_code\", \"home_team_id\", \"vis_team_id\", \"home_team_abbrev\", \"vis_team_abbrev\", \"home_score\", \"vis_score\", \"game_date\", \"season\"]].drop_duplicates()"
   ]
  },
  {
   "cell_type": "code",
   "execution_count": 19,
   "metadata": {},
   "outputs": [
    {
     "data": {
      "text/plain": [
       "Index(['game_code', 'home_team_id', 'vis_team_id', 'home_team_abbrev',\n",
       "       'vis_team_abbrev', 'home_score', 'vis_score', 'game_date', 'season'],\n",
       "      dtype='object')"
      ]
     },
     "execution_count": 19,
     "metadata": {},
     "output_type": "execute_result"
    }
   ],
   "source": [
    "game_codes.columns"
   ]
  },
  {
   "cell_type": "code",
   "execution_count": 20,
   "metadata": {},
   "outputs": [
    {
     "data": {
      "text/plain": [
       "Index(['game_code', 'season', 'game_date', 'offense_team', 'defense_team',\n",
       "       'home_team_id', 'vis_team_id', 'total_expected_yards_gained',\n",
       "       'total_yards_gained', 'total_yards_added', 'play_count'],\n",
       "      dtype='object')"
      ]
     },
     "execution_count": 20,
     "metadata": {},
     "output_type": "execute_result"
    }
   ],
   "source": [
    "rolling_offense.columns"
   ]
  },
  {
   "cell_type": "code",
   "execution_count": null,
   "metadata": {},
   "outputs": [],
   "source": []
  },
  {
   "cell_type": "code",
   "execution_count": 21,
   "metadata": {},
   "outputs": [],
   "source": [
    "yards_values = ['total_expected_yards_gained', 'total_yards_gained', 'total_yards_added', 'play_count']\n",
    "games_home_team = game_codes.merge(rolling_offense[[\"game_code\", \"offense_team\"] + yards_values], left_on=[\"game_code\", \"home_team_id\"], right_on=[\"game_code\", \"offense_team\"], suffixes=[\"\", \"_offense\"])\n",
    "games_home_team = games_home_team.merge(rolling_defense[[\"game_code\", \"defense_team\"] + yards_values], left_on=[\"game_code\", \"home_team_id\"], right_on=[\"game_code\", \"defense_team\"], suffixes=[\"_offense\", \"_defense\"])\n"
   ]
  },
  {
   "cell_type": "code",
   "execution_count": 22,
   "metadata": {},
   "outputs": [],
   "source": [
    "yards_values = ['total_expected_yards_gained', 'total_yards_gained', 'total_yards_added', 'play_count']\n",
    "games_vis_team = game_codes.merge(rolling_offense[[\"game_code\", \"offense_team\"] + yards_values], left_on=[\"game_code\", \"vis_team_id\"], right_on=[\"game_code\", \"offense_team\"], suffixes=[\"\", \"_offense\"])\n",
    "games_vis_team = games_vis_team.merge(rolling_defense[[\"game_code\", \"defense_team\"] + yards_values], left_on=[\"game_code\", \"vis_team_id\"], right_on=[\"game_code\", \"defense_team\"], suffixes=[\"_offense\", \"_defense\"])"
   ]
  },
  {
   "cell_type": "code",
   "execution_count": 23,
   "metadata": {},
   "outputs": [],
   "source": [
    "games = games_home_team.merge(games_vis_team, on=['game_code', 'season', 'home_team_id', 'vis_team_id', 'home_team_abbrev', 'vis_team_abbrev', 'home_score', 'vis_score', 'game_date'], suffixes=[\"_home\", \"_away\"])\n",
    "games = games[games[\"season\"]>=2016]\n"
   ]
  },
  {
   "cell_type": "code",
   "execution_count": null,
   "metadata": {},
   "outputs": [],
   "source": []
  },
  {
   "cell_type": "code",
   "execution_count": 24,
   "metadata": {},
   "outputs": [],
   "source": [
    "features = [\"total_yards_added_offense_home\",\n",
    "            \"total_yards_added_defense_home\",\n",
    "            \"total_yards_added_offense_away\",\n",
    "            \"total_yards_added_defense_away\",]\n",
    "target = [\"home_score\",\"vis_score\"]"
   ]
  },
  {
   "cell_type": "code",
   "execution_count": null,
   "metadata": {},
   "outputs": [],
   "source": []
  },
  {
   "cell_type": "code",
   "execution_count": 25,
   "metadata": {},
   "outputs": [],
   "source": [
    "ridge_model_home = sklearn.linear_model.RidgeCV(alphas=(0.1, 1.0, 10.0))\n",
    "ridge_model_home.fit(games[features], games[\"home_score\"])\n",
    "ridge_model_home.score(games[features], games[\"home_score\"])\n",
    "games[\"x_home_score\"] = ridge_model_home.predict(games[features])"
   ]
  },
  {
   "cell_type": "code",
   "execution_count": 26,
   "metadata": {},
   "outputs": [],
   "source": [
    "ridge_model_vis = sklearn.linear_model.RidgeCV(alphas=(0.1, 1.0, 10.0))\n",
    "ridge_model_vis.fit(games[features], games[\"vis_score\"])\n",
    "ridge_model_vis.score(games[features], games[\"vis_score\"])\n",
    "games[\"x_vis_score\"] = ridge_model_vis.predict(games[features])"
   ]
  },
  {
   "cell_type": "code",
   "execution_count": 27,
   "metadata": {},
   "outputs": [
    {
     "data": {
      "text/plain": [
       "[<matplotlib.lines.Line2D at 0x7fd8842eb250>]"
      ]
     },
     "execution_count": 27,
     "metadata": {},
     "output_type": "execute_result"
    },
    {
     "data": {
      "image/png": "[encoded data removed]",
      "text/plain": [
       "<Figure size 432x288 with 1 Axes>"
      ]
     },
     "metadata": {
      "needs_background": "light"
     },
     "output_type": "display_data"
    }
   ],
   "source": [
    "plt.scatter(games[\"x_home_score\"], games[\"home_score\"])\n",
    "plt.plot([0,60], [0,60])"
   ]
  },
  {
   "cell_type": "code",
   "execution_count": 28,
   "metadata": {},
   "outputs": [
    {
     "data": {
      "text/plain": [
       "[<matplotlib.lines.Line2D at 0x7fd887f6b640>]"
      ]
     },
     "execution_count": 28,
     "metadata": {},
     "output_type": "execute_result"
    },
    {
     "data": {
      "image/png": "[encoded data removed]",
      "text/plain": [
       "<Figure size 432x288 with 1 Axes>"
      ]
     },
     "metadata": {
      "needs_background": "light"
     },
     "output_type": "display_data"
    }
   ],
   "source": [
    "plt.scatter(games[\"x_vis_score\"], games[\"vis_score\"])\n",
    "plt.plot([0,60], [0,60])"
   ]
  },
  {
   "cell_type": "code",
   "execution_count": 29,
   "metadata": {},
   "outputs": [],
   "source": [
    "\n",
    "X2 = sm.add_constant(games[features])\n",
    "est = sm.OLS(games[\"home_score\"], X2)\n",
    "results_new = []\n",
    "results_fu = est.fit()\n",
    "for x in np.arange(0.005, 0.25, 0.005).tolist():\n",
    "    est2 = est.fit_regularized(L1_wt=0, alpha=x)\n",
    "    results_fr_fit = sm.regression.linear_model.OLSResults(est, \n",
    "                                                            est2.params, \n",
    "                                                            results_fu.normalized_cov_params)\n",
    "\n",
    "    results_new.append(results_fr_fit.ssr)\n",
    "    # print(est2.model.score(est2.params))\n"
   ]
  },
  {
   "cell_type": "code",
   "execution_count": 30,
   "metadata": {},
   "outputs": [
    {
     "data": {
      "text/plain": [
       "[<matplotlib.lines.Line2D at 0x7fd888663430>]"
      ]
     },
     "execution_count": 30,
     "metadata": {},
     "output_type": "execute_result"
    },
    {
     "data": {
      "image/png": "[encoded data removed]",
      "text/plain": [
       "<Figure size 432x288 with 1 Axes>"
      ]
     },
     "metadata": {
      "needs_background": "light"
     },
     "output_type": "display_data"
    }
   ],
   "source": [
    "plt.plot(np.arange(0.005, 0.25, 0.005).tolist(), results_new)"
   ]
  },
  {
   "cell_type": "code",
   "execution_count": 31,
   "metadata": {},
   "outputs": [
    {
     "data": {
      "text/plain": [
       "[<matplotlib.lines.Line2D at 0x7fd8884a82e0>]"
      ]
     },
     "execution_count": 31,
     "metadata": {},
     "output_type": "execute_result"
    },
    {
     "data": {
      "image/png": "[encoded data removed]",
      "text/plain": [
       "<Figure size 432x288 with 1 Axes>"
      ]
     },
     "metadata": {
      "needs_background": "light"
     },
     "output_type": "display_data"
    }
   ],
   "source": [
    "plt.plot(np.arange(0.005, 0.25, 0.005).tolist(), results_new)"
   ]
  },
  {
   "cell_type": "code",
   "execution_count": 32,
   "metadata": {},
   "outputs": [
    {
     "name": "stdout",
     "output_type": "stream",
     "text": [
      "                            OLS Regression Results                            \n",
      "==============================================================================\n",
      "Dep. Variable:             home_score   R-squared:                       0.036\n",
      "Model:                            OLS   Adj. R-squared:                  0.033\n",
      "Method:                 Least Squares   F-statistic:                     13.61\n",
      "Date:                Tue, 23 Nov 2021   Prob (F-statistic):           6.79e-11\n",
      "Time:                        13:28:03   Log-Likelihood:                -5461.6\n",
      "No. Observations:                1473   AIC:                         1.093e+04\n",
      "Df Residuals:                    1468   BIC:                         1.096e+04\n",
      "Df Model:                           4                                         \n",
      "Covariance Type:            nonrobust                                         \n",
      "==================================================================================================\n",
      "                                     coef    std err          t      P>|t|      [0.025      0.975]\n",
      "--------------------------------------------------------------------------------------------------\n",
      "const                             21.7056      0.258     84.292      0.000      21.200      22.211\n",
      "total_yards_added_offense_home     0.0761      0.008      9.053      0.000       0.060       0.093\n",
      "total_yards_added_defense_home    -0.0240      0.010     -2.427      0.015      -0.043      -0.005\n",
      "total_yards_added_offense_away    -0.0372      0.009     -4.363      0.000      -0.054      -0.021\n",
      "total_yards_added_defense_away     0.0558      0.010      5.629      0.000       0.036       0.075\n",
      "==============================================================================\n",
      "Omnibus:                        7.552   Durbin-Watson:                   1.961\n",
      "Prob(Omnibus):                  0.023   Jarque-Bera (JB):                7.512\n",
      "Skew:                           0.173   Prob(JB):                       0.0234\n",
      "Kurtosis:                       3.047   Cond. No.                         31.9\n",
      "==============================================================================\n",
      "\n",
      "Notes:\n",
      "[1] Standard Errors assume that the covariance matrix of the errors is correctly specified.\n"
     ]
    }
   ],
   "source": [
    "results_fr = est.fit_regularized(L1_wt=0, alpha=0.1, start_params=results_fu.params)\n",
    "final = sm.regression.linear_model.OLSResults(est, \n",
    "                                              results_fr.params, \n",
    "                                              est.normalized_cov_params)\n",
    "\n",
    "print(final.summary())\n"
   ]
  },
  {
   "cell_type": "code",
   "execution_count": 33,
   "metadata": {},
   "outputs": [],
   "source": [
    "games.to_clipboard()"
   ]
  },
  {
   "cell_type": "code",
   "execution_count": 34,
   "metadata": {},
   "outputs": [
    {
     "ename": "NotImplementedError",
     "evalue": "",
     "output_type": "error",
     "traceback": [
      "\u001b[0;31m---------------------------------------------------------------------------\u001b[0m",
      "\u001b[0;31mNotImplementedError\u001b[0m                       Traceback (most recent call last)",
      "\u001b[0;32m/var/folders/dq/tcxv3s4j7y585_4jhfbdvrx00000gn/T/ipykernel_2145/3785318762.py\u001b[0m in \u001b[0;36m<module>\u001b[0;34m\u001b[0m\n\u001b[0;32m----> 1\u001b[0;31m \u001b[0mest2\u001b[0m\u001b[0;34m.\u001b[0m\u001b[0msummary\u001b[0m\u001b[0;34m(\u001b[0m\u001b[0;34m)\u001b[0m\u001b[0;34m\u001b[0m\u001b[0;34m\u001b[0m\u001b[0m\n\u001b[0m",
      "\u001b[0;32m~/Documents/GitHub/nfl-live-win-probability/venv/lib/python3.9/site-packages/statsmodels/base/model.py\u001b[0m in \u001b[0;36msummary\u001b[0;34m(self)\u001b[0m\n\u001b[1;32m   1175\u001b[0m         \u001b[0mNot\u001b[0m \u001b[0mimplemented\u001b[0m\u001b[0;34m\u001b[0m\u001b[0;34m\u001b[0m\u001b[0m\n\u001b[1;32m   1176\u001b[0m         \"\"\"\n\u001b[0;32m-> 1177\u001b[0;31m         \u001b[0;32mraise\u001b[0m \u001b[0mNotImplementedError\u001b[0m\u001b[0;34m\u001b[0m\u001b[0;34m\u001b[0m\u001b[0m\n\u001b[0m\u001b[1;32m   1178\u001b[0m \u001b[0;34m\u001b[0m\u001b[0m\n\u001b[1;32m   1179\u001b[0m \u001b[0;34m\u001b[0m\u001b[0m\n",
      "\u001b[0;31mNotImplementedError\u001b[0m: "
     ]
    }
   ],
   "source": [
    "est2.summary()"
   ]
  },
  {
   "cell_type": "code",
   "execution_count": null,
   "metadata": {},
   "outputs": [],
   "source": [
    "games[\"total_yards_added_offense_home_per_play\"] = games[\"total_yards_added_offense_home\"] / games[\"play_count_offense_home\"] \n",
    "games[\"total_yards_added_defense_home_per_play\"] = games[\"total_yards_added_defense_home\"] / games[\"play_count_defense_home\"] \n",
    "games[\"total_yards_added_offense_away_per_play\"] = games[\"total_yards_added_offense_away\"] / games[\"play_count_offense_away\"] \n",
    "games[\"total_yards_added_defense_away_per_play\"] = games[\"total_yards_added_defense_away\"] / games[\"play_count_defense_away\"] \n"
   ]
  },
  {
   "cell_type": "code",
   "execution_count": null,
   "metadata": {},
   "outputs": [],
   "source": [
    "games.columns"
   ]
  },
  {
   "cell_type": "code",
   "execution_count": null,
   "metadata": {},
   "outputs": [],
   "source": [
    "\n",
    "new_features = [\n",
    "    'total_yards_added_offense_home_per_play',\n",
    "    'total_yards_added_defense_home_per_play',\n",
    "    'total_yards_added_offense_away_per_play',\n",
    "    'total_yards_added_defense_away_per_play',\n",
    "    'play_count_offense_home',\n",
    "    'play_count_defense_home',\n",
    "    'play_count_offense_away', \n",
    "    'play_count_defense_away'\n",
    "\n",
    "       ]\n",
    "X2 = sm.add_constant(games[new_features])\n",
    "est = sm.OLS(games[\"vis_score\"], X2)\n",
    "est2 = est.fit()\n",
    "print(est2.summary())\n"
   ]
  },
  {
   "cell_type": "code",
   "execution_count": null,
   "metadata": {},
   "outputs": [],
   "source": [
    "\n",
    "new_features = [\n",
    "    'total_yards_added_offense_home_per_play',\n",
    "    'total_yards_added_defense_home_per_play',\n",
    "    'total_yards_added_offense_away_per_play',\n",
    "    'total_yards_added_defense_away_per_play',\n",
    "    'play_count_offense_home',\n",
    "    'play_count_defense_home',\n",
    "    'play_count_offense_away', \n",
    "    'play_count_defense_away'\n",
    "\n",
    "       ]\n",
    "X2 = sm.add_constant(games[new_features])\n",
    "est = sm.OLS(games[\"home_score\"], X2)\n",
    "est2 = est.fit()\n",
    "print(est2.summary())\n"
   ]
  },
  {
   "cell_type": "code",
   "execution_count": null,
   "metadata": {},
   "outputs": [],
   "source": [
    "X2 = sm.add_constant(games[features])\n",
    "est = sm.OLS(games[\"vis_score\"], X2)\n",
    "est2 = est.fit()\n",
    "print(est2.summary())\n"
   ]
  },
  {
   "cell_type": "code",
   "execution_count": null,
   "metadata": {},
   "outputs": [],
   "source": [
    "X2 = sm.add_constant(games[features])\n",
    "est = sm.OLS(games[\"home_score\"], X2)\n",
    "est2 = est.fit()\n",
    "print(est2.summary())\n"
   ]
  },
  {
   "cell_type": "code",
   "execution_count": null,
   "metadata": {},
   "outputs": [],
   "source": [
    "games[\"home_team_win\"] = np.where(games[\"home_score\"] > games[\"vis_score\"], 1, 0)\n",
    "games[\"away_team_win\"] = np.where(games[\"home_score\"] < games[\"vis_score\"], 1, 0)\n",
    "games[\"tie\"] = np.where(games[\"home_score\"] == games[\"vis_score\"], 1, 0)"
   ]
  },
  {
   "cell_type": "code",
   "execution_count": null,
   "metadata": {},
   "outputs": [],
   "source": [
    "X2 = sm.add_constant(games[features])\n",
    "est = sm.OLS(games[\"vis_score\"], X2)\n",
    "est2 = est.fit()\n",
    "print(est2.summary())\n"
   ]
  },
  {
   "cell_type": "code",
   "execution_count": null,
   "metadata": {},
   "outputs": [],
   "source": [
    "X2 = sm.add_constant(games[features])\n",
    "est = sm.Logit(games[\"home_team_win\"], X2)\n",
    "est2 = est.fit()\n",
    "games[\"x_home_team_win\"] = est2.predict(X2)\n",
    "print(est2.summary())\n"
   ]
  },
  {
   "cell_type": "code",
   "execution_count": null,
   "metadata": {},
   "outputs": [],
   "source": [
    "X2 = sm.add_constant(games[features])\n",
    "est = sm.Logit(games[\"away_team_win\"], X2)\n",
    "est2 = est.fit()\n",
    "games[\"x_away_team_win\"] = est2.predict(X2)\n",
    "games[\"x_tie_calculated\"] = 1 - games[\"x_away_team_win\"] - games[\"x_home_team_win\"]\n",
    "print(est2.summary())\n"
   ]
  },
  {
   "cell_type": "code",
   "execution_count": null,
   "metadata": {},
   "outputs": [],
   "source": [
    "X2 = sm.add_constant(games[features])\n",
    "est = sm.Logit(games[\"tie\"], X2)\n",
    "est2 = est.fit()\n",
    "games[\"x_tie\"] = est2.predict(X2)\n",
    "\n",
    "print(est2.summary())\n"
   ]
  },
  {
   "cell_type": "code",
   "execution_count": null,
   "metadata": {},
   "outputs": [],
   "source": []
  },
  {
   "cell_type": "code",
   "execution_count": null,
   "metadata": {},
   "outputs": [],
   "source": [
    "games[\"x_total_score\"] = games[\"x_home_score\"] + games[\"x_vis_score\"]\n",
    "games[\"x_line\"] = games[\"x_vis_score\"]- games[\"x_home_score\"]\n",
    "\n",
    "view = games[[\"season\", \"game_date\", \"home_team_abbrev\", \"vis_team_abbrev\", \"x_total_score\", \"x_line\", \"x_home_team_win\", \"x_away_team_win\", \"x_tie\", \"x_tie_calculated\"] + features + target + [\"x_home_score\", \"x_vis_score\"]]"
   ]
  },
  {
   "cell_type": "code",
   "execution_count": null,
   "metadata": {},
   "outputs": [],
   "source": [
    "view.to_clipboard()"
   ]
  },
  {
   "cell_type": "code",
   "execution_count": null,
   "metadata": {},
   "outputs": [],
   "source": [
    "plt.hist(games[\"x_home_score\"])"
   ]
  },
  {
   "cell_type": "code",
   "execution_count": null,
   "metadata": {},
   "outputs": [],
   "source": [
    "lower, higher = 0, 100\n",
    "plt.hist(games[(games[\"x_home_score\"]>lower)&(games[\"x_home_score\"]<higher)][\"home_score\"])\n",
    "plt.xlim([0,60])\n",
    "np.mean(games[(games[\"x_home_score\"]>lower)&(games[\"x_home_score\"]<higher)][\"home_score\"])\n",
    "print(np.mean(games[(games[\"x_home_score\"]>lower)&(games[\"x_home_score\"]<higher)][\"home_score\"]), np.mean(games[(games[\"x_home_score\"]>lower)&(games[\"x_home_score\"]<higher)][\"x_home_score\"]))\n",
    "np.std(games[(games[\"x_home_score\"]>lower)&(games[\"x_home_score\"]<higher)][\"home_score\"])\n"
   ]
  },
  {
   "cell_type": "code",
   "execution_count": null,
   "metadata": {},
   "outputs": [],
   "source": [
    "lower, higher = 0, 20\n",
    "plt.hist(games[(games[\"x_home_score\"]>lower)&(games[\"x_home_score\"]<higher)][\"home_score\"])\n",
    "plt.xlim([0,60])\n",
    "np.mean(games[(games[\"x_home_score\"]>lower)&(games[\"x_home_score\"]<higher)][\"home_score\"])\n",
    "print(np.mean(games[(games[\"x_home_score\"]>lower)&(games[\"x_home_score\"]<higher)][\"home_score\"]), np.mean(games[(games[\"x_home_score\"]>lower)&(games[\"x_home_score\"]<higher)][\"x_home_score\"]))\n",
    "np.std(games[(games[\"x_home_score\"]>lower)&(games[\"x_home_score\"]<higher)][\"home_score\"])\n"
   ]
  },
  {
   "cell_type": "code",
   "execution_count": null,
   "metadata": {},
   "outputs": [],
   "source": [
    "lower, higher = 20, 22.5\n",
    "plt.hist(games[(games[\"x_home_score\"]>lower)&(games[\"x_home_score\"]<higher)][\"home_score\"])\n",
    "plt.xlim([0,60])\n",
    "np.mean(games[(games[\"x_home_score\"]>lower)&(games[\"x_home_score\"]<higher)][\"home_score\"])\n",
    "print(np.mean(games[(games[\"x_home_score\"]>lower)&(games[\"x_home_score\"]<higher)][\"home_score\"]), np.mean(games[(games[\"x_home_score\"]>lower)&(games[\"x_home_score\"]<higher)][\"x_home_score\"]))\n",
    "np.std(games[(games[\"x_home_score\"]>lower)&(games[\"x_home_score\"]<higher)][\"home_score\"])\n"
   ]
  },
  {
   "cell_type": "code",
   "execution_count": null,
   "metadata": {},
   "outputs": [],
   "source": [
    "lower, higher = 22.5, 25\n",
    "plt.hist(games[(games[\"x_home_score\"]>lower)&(games[\"x_home_score\"]<higher)][\"home_score\"])\n",
    "plt.xlim([0,60])\n",
    "np.mean(games[(games[\"x_home_score\"]>lower)&(games[\"x_home_score\"]<higher)][\"home_score\"])\n",
    "print(np.mean(games[(games[\"x_home_score\"]>lower)&(games[\"x_home_score\"]<higher)][\"home_score\"]), np.mean(games[(games[\"x_home_score\"]>lower)&(games[\"x_home_score\"]<higher)][\"x_home_score\"]))\n",
    "\n",
    "np.std(games[(games[\"x_home_score\"]>lower)&(games[\"x_home_score\"]<higher)][\"home_score\"])"
   ]
  },
  {
   "cell_type": "code",
   "execution_count": null,
   "metadata": {},
   "outputs": [],
   "source": [
    "lower, higher = 25, 27.5\n",
    "plt.hist(games[(games[\"x_home_score\"]>lower)&(games[\"x_home_score\"]<higher)][\"home_score\"])\n",
    "plt.xlim([0,60])\n",
    "np.mean(games[(games[\"x_home_score\"]>lower)&(games[\"x_home_score\"]<higher)][\"home_score\"])\n",
    "print(np.mean(games[(games[\"x_home_score\"]>lower)&(games[\"x_home_score\"]<higher)][\"home_score\"]), np.mean(games[(games[\"x_home_score\"]>lower)&(games[\"x_home_score\"]<higher)][\"x_home_score\"]))\n",
    "np.std(games[(games[\"x_home_score\"]>lower)&(games[\"x_home_score\"]<higher)][\"home_score\"])\n"
   ]
  },
  {
   "cell_type": "code",
   "execution_count": null,
   "metadata": {},
   "outputs": [],
   "source": [
    "lower, higher = 27.5, 100\n",
    "plt.hist(games[(games[\"x_home_score\"]>lower)&(games[\"x_home_score\"]<higher)][\"home_score\"])\n",
    "plt.xlim([0,60])\n",
    "np.mean(games[(games[\"x_home_score\"]>lower)&(games[\"x_home_score\"]<higher)][\"home_score\"])\n",
    "print(np.mean(games[(games[\"x_home_score\"]>lower)&(games[\"x_home_score\"]<higher)][\"home_score\"]), np.mean(games[(games[\"x_home_score\"]>lower)&(games[\"x_home_score\"]<higher)][\"x_home_score\"]))\n",
    "np.std(games[(games[\"x_home_score\"]>lower)&(games[\"x_home_score\"]<higher)][\"home_score\"])"
   ]
  },
  {
   "cell_type": "code",
   "execution_count": null,
   "metadata": {},
   "outputs": [],
   "source": [
    "plt.scatter(games[\"x_home_team_win\"], games[\"x_tie\"])"
   ]
  },
  {
   "cell_type": "code",
   "execution_count": null,
   "metadata": {},
   "outputs": [],
   "source": [
    "games[\"line\"] = games[\"vis_score\"] - games[\"home_score\"]"
   ]
  },
  {
   "cell_type": "code",
   "execution_count": null,
   "metadata": {},
   "outputs": [],
   "source": [
    "plt.hist(games[\"x_line\"])\n"
   ]
  },
  {
   "cell_type": "code",
   "execution_count": null,
   "metadata": {},
   "outputs": [],
   "source": [
    "\n",
    "lower, higher = -50,50\n",
    "plt.hist(games[(games[\"x_line\"]>lower)&(games[\"line\"]<higher)][\"line\"])\n",
    "plt.xlim([-50,50])\n",
    "np.mean(games[(games[\"x_line\"]>lower)&(games[\"x_line\"]<higher)][\"line\"])\n",
    "print(np.mean(games[(games[\"x_line\"]>lower)&(games[\"x_line\"]<higher)][\"line\"]), np.mean(games[(games[\"x_line\"]>lower)&(games[\"x_line\"]<higher)][\"x_line\"]))\n",
    "np.std(games[(games[\"x_line\"]>lower)&(games[\"x_line\"]<higher)][\"line\"])\n"
   ]
  },
  {
   "cell_type": "code",
   "execution_count": null,
   "metadata": {},
   "outputs": [],
   "source": [
    "lower, higher = -50,-10\n",
    "plt.hist(games[(games[\"x_line\"]>lower)&(games[\"x_line\"]<higher)][\"line\"])\n",
    "plt.xlim([-50,50])\n",
    "np.mean(games[(games[\"x_line\"]>lower)&(games[\"x_line\"]<higher)][\"line\"])\n",
    "print(np.mean(games[(games[\"x_line\"]>lower)&(games[\"x_line\"]<higher)][\"line\"]), np.mean(games[(games[\"x_line\"]>lower)&(games[\"x_line\"]<higher)][\"x_line\"]))\n",
    "np.std(games[(games[\"x_line\"]>lower)&(games[\"x_line\"]<higher)][\"line\"])\n"
   ]
  },
  {
   "cell_type": "code",
   "execution_count": null,
   "metadata": {},
   "outputs": [],
   "source": [
    "lower, higher = -50,-7.5\n",
    "plt.hist(games[(games[\"x_line\"]>lower)&(games[\"x_line\"]<higher)][\"line\"])\n",
    "plt.xlim([-50,50])\n",
    "np.mean(games[(games[\"x_line\"]>lower)&(games[\"x_line\"]<higher)][\"line\"])\n",
    "print(np.mean(games[(games[\"x_line\"]>lower)&(games[\"x_line\"]<higher)][\"line\"]), np.mean(games[(games[\"x_line\"]>lower)&(games[\"x_line\"]<higher)][\"x_line\"]))\n",
    "np.std(games[(games[\"x_line\"]>lower)&(games[\"x_line\"]<higher)][\"line\"])\n"
   ]
  },
  {
   "cell_type": "code",
   "execution_count": null,
   "metadata": {},
   "outputs": [],
   "source": [
    "lower, higher = -7.5,-5\n",
    "plt.hist(games[(games[\"x_line\"]>lower)&(games[\"x_line\"]<higher)][\"line\"])\n",
    "plt.xlim([-50,50])\n",
    "np.mean(games[(games[\"x_line\"]>lower)&(games[\"x_line\"]<higher)][\"line\"])\n",
    "print(np.mean(games[(games[\"x_line\"]>lower)&(games[\"x_line\"]<higher)][\"line\"]), np.mean(games[(games[\"x_line\"]>lower)&(games[\"x_line\"]<higher)][\"x_line\"]))\n",
    "np.std(games[(games[\"x_line\"]>lower)&(games[\"x_line\"]<higher)][\"line\"])\n"
   ]
  },
  {
   "cell_type": "code",
   "execution_count": null,
   "metadata": {},
   "outputs": [],
   "source": [
    "lower, higher = -5,-2.5\n",
    "plt.hist(games[(games[\"x_line\"]>lower)&(games[\"x_line\"]<higher)][\"line\"])\n",
    "plt.xlim([-50,50])\n",
    "np.mean(games[(games[\"x_line\"]>lower)&(games[\"x_line\"]<higher)][\"line\"])\n",
    "print(np.mean(games[(games[\"x_line\"]>lower)&(games[\"x_line\"]<higher)][\"line\"]), np.mean(games[(games[\"x_line\"]>lower)&(games[\"x_line\"]<higher)][\"x_line\"]))\n",
    "np.std(games[(games[\"x_line\"]>lower)&(games[\"x_line\"]<higher)][\"line\"])\n"
   ]
  },
  {
   "cell_type": "code",
   "execution_count": null,
   "metadata": {},
   "outputs": [],
   "source": [
    "lower, higher = -2.5,0\n",
    "plt.hist(games[(games[\"x_line\"]>lower)&(games[\"x_line\"]<higher)][\"line\"])\n",
    "plt.xlim([-50,50])\n",
    "np.mean(games[(games[\"x_line\"]>lower)&(games[\"x_line\"]<higher)][\"line\"])\n",
    "print(np.mean(games[(games[\"x_line\"]>lower)&(games[\"x_line\"]<higher)][\"line\"]), np.mean(games[(games[\"x_line\"]>lower)&(games[\"x_line\"]<higher)][\"x_line\"]))\n",
    "np.std(games[(games[\"x_line\"]>lower)&(games[\"x_line\"]<higher)][\"line\"])\n"
   ]
  },
  {
   "cell_type": "code",
   "execution_count": null,
   "metadata": {},
   "outputs": [],
   "source": [
    "lower, higher = 0,2.5\n",
    "plt.hist(games[(games[\"x_line\"]>lower)&(games[\"x_line\"]<higher)][\"line\"])\n",
    "plt.xlim([-50,50])\n",
    "np.mean(games[(games[\"x_line\"]>lower)&(games[\"x_line\"]<higher)][\"line\"])\n",
    "print(np.mean(games[(games[\"x_line\"]>lower)&(games[\"x_line\"]<higher)][\"line\"]), np.mean(games[(games[\"x_line\"]>lower)&(games[\"x_line\"]<higher)][\"x_line\"]))\n",
    "np.std(games[(games[\"x_line\"]>lower)&(games[\"x_line\"]<higher)][\"line\"])\n"
   ]
  },
  {
   "cell_type": "code",
   "execution_count": null,
   "metadata": {},
   "outputs": [],
   "source": [
    "lower, higher = 2.5,5\n",
    "plt.hist(games[(games[\"x_line\"]>lower)&(games[\"x_line\"]<higher)][\"line\"])\n",
    "plt.xlim([-50,50])\n",
    "np.mean(games[(games[\"x_line\"]>lower)&(games[\"x_line\"]<higher)][\"line\"])\n",
    "print(np.mean(games[(games[\"x_line\"]>lower)&(games[\"x_line\"]<higher)][\"line\"]), np.mean(games[(games[\"x_line\"]>lower)&(games[\"x_line\"]<higher)][\"x_line\"]))\n",
    "np.std(games[(games[\"x_line\"]>lower)&(games[\"x_line\"]<higher)][\"line\"])\n"
   ]
  },
  {
   "cell_type": "code",
   "execution_count": null,
   "metadata": {},
   "outputs": [],
   "source": [
    "lower, higher = 5, 50\n",
    "plt.hist(games[(games[\"x_line\"]>lower)&(games[\"x_line\"]<higher)][\"line\"])\n",
    "plt.xlim([-50,50])\n",
    "np.mean(games[(games[\"x_line\"]>lower)&(games[\"x_line\"]<higher)][\"line\"])\n",
    "print(np.mean(games[(games[\"x_line\"]>lower)&(games[\"x_line\"]<higher)][\"line\"]), np.mean(games[(games[\"x_line\"]>lower)&(games[\"x_line\"]<higher)][\"x_line\"]))\n",
    "np.std(games[(games[\"x_line\"]>lower)&(games[\"x_line\"]<higher)][\"line\"])\n"
   ]
  },
  {
   "cell_type": "code",
   "execution_count": null,
   "metadata": {},
   "outputs": [],
   "source": [
    "number_buckets = [(-50, -7.5), (-7.5, -5), (-5, -2.5), (-2.5, 0), (0, 2.5), (2.5, 5), (5, 50)]\n",
    "\n",
    "for x in number_buckets:\n",
    "    lower = x[0]\n",
    "    higher = x[1]\n",
    "    print(np.mean(games[(games[\"x_line\"]>lower)&(games[\"x_line\"]<higher)][\"line\"]), np.mean(games[(games[\"x_line\"]>lower)&(games[\"x_line\"]<higher)][\"x_line\"]), len(games[(games[\"x_line\"]>lower)&(games[\"x_line\"]<higher)][\"x_line\"]), np.std(games[(games[\"x_line\"]>lower)&(games[\"x_line\"]<higher)][\"line\"])\n",
    ")"
   ]
  },
  {
   "cell_type": "code",
   "execution_count": null,
   "metadata": {},
   "outputs": [],
   "source": [
    "games[\"line_abs_miss\"] = abs(games[\"line\"] - games[\"x_line\"])\n",
    "plt.scatter(abs(games[\"x_line\"]), abs(games[\"line\"]), alpha=.2)\n",
    "# np.where(games[\"x_line\"]>0, games[\"x_line\"], -games[\"x_line\"])"
   ]
  },
  {
   "cell_type": "code",
   "execution_count": null,
   "metadata": {},
   "outputs": [],
   "source": [
    "odds = pd.read_parquet(\"data/odds_data.parquet\")\n",
    "odds = odds.drop_duplicates(\"game_code\")"
   ]
  },
  {
   "cell_type": "code",
   "execution_count": null,
   "metadata": {},
   "outputs": [],
   "source": [
    "games=games.merge(odds[[\"game_code\", \"cur_spread\"]], on=\"game_code\")"
   ]
  },
  {
   "cell_type": "code",
   "execution_count": null,
   "metadata": {},
   "outputs": [],
   "source": [
    "games[\"line_abs_miss\"] = abs(games[\"line\"] - games[\"x_line\"])\n",
    "plt.scatter(abs(games[\"cur_spread\"]), abs(games[\"line\"]), alpha=.2)\n",
    "# np.where(games[\"x_line\"]>0, games[\"x_line\"], -games[\"x_line\"])"
   ]
  },
  {
   "cell_type": "code",
   "execution_count": null,
   "metadata": {},
   "outputs": [],
   "source": [
    "np.std(games[\"line_abs_miss\"])"
   ]
  },
  {
   "cell_type": "code",
   "execution_count": null,
   "metadata": {},
   "outputs": [],
   "source": [
    "np.corrcoef(games[\"x_line\"], games[\"cur_spread\"])**2\n"
   ]
  },
  {
   "cell_type": "code",
   "execution_count": null,
   "metadata": {},
   "outputs": [],
   "source": [
    "plt.hist(odds[\"cur_spread\"])"
   ]
  },
  {
   "cell_type": "code",
   "execution_count": null,
   "metadata": {},
   "outputs": [],
   "source": [
    "import itertools\n",
    "import numpy as np\n",
    "randomized_cycle = itertools.cycle(np.random.normal(size=250000))\n",
    "randomly_simulated_value = next(randomized_cycle)\n",
    "randomly_simulated_value * 9 + 25\n",
    "\n"
   ]
  },
  {
   "cell_type": "code",
   "execution_count": null,
   "metadata": {},
   "outputs": [],
   "source": [
    "current_values = games_home_team.append(games_vis_team).sort_values(\"game_date\", ascending=False).drop_duplicates([\"offense_team\"])"
   ]
  },
  {
   "cell_type": "code",
   "execution_count": null,
   "metadata": {},
   "outputs": [],
   "source": [
    "game_data"
   ]
  },
  {
   "cell_type": "code",
   "execution_count": null,
   "metadata": {},
   "outputs": [],
   "source": [
    "import datetime\n",
    "schedule = pd.read_parquet(\"data/schedule_data.parquet\")\n",
    "schedule = schedule[schedule[\"game_date\"]> pd.to_datetime(datetime.date.today())]"
   ]
  },
  {
   "cell_type": "code",
   "execution_count": null,
   "metadata": {},
   "outputs": [],
   "source": [
    "current_values.columns"
   ]
  },
  {
   "cell_type": "code",
   "execution_count": null,
   "metadata": {},
   "outputs": [],
   "source": [
    "predictions = schedule.merge(current_values[['offense_team', 'total_yards_added_offense', 'total_yards_added_defense']], left_on=[\"home_team_id\"], right_on=[\"offense_team\"], suffixes=[\"\", \"_home\"])\n",
    "predictions = predictions.merge(current_values[['offense_team', 'total_yards_added_offense', 'total_yards_added_defense']], left_on=[\"vis_team_id\"], right_on=[\"offense_team\"], suffixes=[\"_home\", \"_away\"])"
   ]
  },
  {
   "cell_type": "code",
   "execution_count": null,
   "metadata": {},
   "outputs": [],
   "source": [
    "predictions[\"x_home_score\"] = ridge_model_home.predict(predictions[features])\n",
    "predictions[\"x_vis_score\"] = ridge_model_vis.predict(predictions[features])\n",
    "predictions[\"x_line\"] = predictions[\"x_vis_score\"] - predictions[\"x_home_score\"]"
   ]
  },
  {
   "cell_type": "code",
   "execution_count": null,
   "metadata": {},
   "outputs": [],
   "source": [
    "import itertools\n",
    "import numpy as np\n",
    "score_dicts = {}\n",
    "outcome_dicts = {}\n",
    "import time\n",
    "init_time = time.time()\n",
    "for x in predictions[\"game_code\"]:\n",
    "    print(x)\n",
    "    def simulate_results(pred_mean, pred_std):\n",
    "        randomized_cycle = itertools.cycle(np.random.normal(size=250000))\n",
    "        random_sample = next(randomized_cycle)\n",
    "        score_diff = round(random_sample * pred_std + pred_mean)\n",
    "        return score_diff\n",
    "    score_diffs = []\n",
    "    final_result = []\n",
    "    for simulations in range(1):\n",
    "        pred = int(simulate_results(predictions[predictions[\"game_code\"] == x][\"x_line\"], 13.334230852348464))\n",
    "        score_diffs.append(pred)\n",
    "        final_result.append(np.where(pred<0, 'W', np.where(pred>0, 'L', 'T')))\n",
    "    outcome_dicts[x] = final_result\n",
    "    score_dicts[x] = score_diffs\n",
    "    print(time.time() - init_time)\n",
    "\n"
   ]
  },
  {
   "cell_type": "code",
   "execution_count": null,
   "metadata": {},
   "outputs": [],
   "source": []
  },
  {
   "cell_type": "code",
   "execution_count": null,
   "metadata": {},
   "outputs": [],
   "source": [
    "test = pd.DataFrame(score_dicts).T"
   ]
  },
  {
   "cell_type": "code",
   "execution_count": null,
   "metadata": {},
   "outputs": [],
   "source": [
    "test.to_clipboard()"
   ]
  },
  {
   "cell_type": "code",
   "execution_count": null,
   "metadata": {},
   "outputs": [],
   "source": [
    "pred"
   ]
  },
  {
   "cell_type": "code",
   "execution_count": null,
   "metadata": {},
   "outputs": [],
   "source": [
    "games[games[\"season\"]==2021][[\"home_team_win\", \"away_team_win\", \"tie\", \"home_team_id\"]].groupby(\"home_team_id\", as_index=False).sum()"
   ]
  },
  {
   "cell_type": "code",
   "execution_count": null,
   "metadata": {},
   "outputs": [],
   "source": [
    "home_team_record = games[games[\"season\"]==2021][[\"home_team_win\", \"away_team_win\", \"tie\", \"home_team_id\"]].groupby(\"home_team_id\", as_index=False).sum()\n",
    "away_team_record = games[games[\"season\"]==2021][[\"home_team_win\", \"away_team_win\", \"tie\", \"vis_team_id\"]].groupby(\"vis_team_id\", as_index=False).sum()"
   ]
  },
  {
   "cell_type": "code",
   "execution_count": null,
   "metadata": {},
   "outputs": [],
   "source": [
    "current_values.to_clipboard()"
   ]
  },
  {
   "cell_type": "code",
   "execution_count": null,
   "metadata": {},
   "outputs": [],
   "source": [
    "plt.hist(games[games[\"season\"]==2021][\"line\"])"
   ]
  },
  {
   "cell_type": "code",
   "execution_count": null,
   "metadata": {},
   "outputs": [],
   "source": [
    "np.std((games[\"line\"] - games[\"x_line\"]))"
   ]
  }
 ],
 "metadata": {
  "interpreter": {
   "hash": "f6c5c0c69c1e48657661a596cadc74240e1a54a645d9f5ac259274dfdfc1bdd8"
  },
  "kernelspec": {
   "display_name": "Python 3.9.5 64-bit ('venv': venv)",
   "name": "python3"
  },
  "language_info": {
   "codemirror_mode": {
    "name": "ipython",
    "version": 3
   },
   "file_extension": ".py",
   "mimetype": "text/x-python",
   "name": "python",
   "nbconvert_exporter": "python",
   "pygments_lexer": "ipython3",
   "version": "3.9.5"
  },
  "orig_nbformat": 4
 },
 "nbformat": 4,
 "nbformat_minor": 2
}
